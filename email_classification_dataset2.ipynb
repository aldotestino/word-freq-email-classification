{
  "nbformat": 4,
  "nbformat_minor": 0,
  "metadata": {
    "colab": {
      "provenance": []
    },
    "kernelspec": {
      "name": "python3",
      "display_name": "Python 3"
    },
    "language_info": {
      "name": "python"
    }
  },
  "cells": [
    {
      "cell_type": "markdown",
      "source": [
        "Import delle librerie"
      ],
      "metadata": {
        "id": "RnvAXdlVOfWz"
      }
    },
    {
      "cell_type": "code",
      "execution_count": null,
      "metadata": {
        "id": "O1aOS_V7avtX"
      },
      "outputs": [],
      "source": [
        "import pandas as pd\n",
        "import numpy as np\n",
        "from sklearn.preprocessing import StandardScaler\n",
        "from sklearn.model_selection import train_test_split, KFold, cross_val_score, GridSearchCV\n",
        "from sklearn.linear_model import SGDClassifier\n",
        "from sklearn.svm import SVC\n",
        "from sklearn.metrics import ConfusionMatrixDisplay, accuracy_score, classification_report\n",
        "from sklearn.decomposition import PCA\n",
        "from sklearn.pipeline import Pipeline\n",
        "import matplotlib.pyplot as plt\n",
        "import seaborn as sns\n",
        "import joblib"
      ]
    },
    {
      "cell_type": "markdown",
      "source": [
        "Caricamento del dataset in un DataFrame `pandas` e visualizzazione delle prime 5 righe"
      ],
      "metadata": {
        "id": "hYlClCzqOiVk"
      }
    },
    {
      "cell_type": "code",
      "source": [
        "df = pd.read_csv('/content/drive/MyDrive/Colab Notebooks/Statistical Methods/emails.csv')\n",
        "df.head()"
      ],
      "metadata": {
        "colab": {
          "base_uri": "https://localhost:8080/",
          "height": 236
        },
        "id": "Yvy2MD3KbPpG",
        "outputId": "41346ff5-242d-4c9d-8c9e-d75ea5a9d7d8"
      },
      "execution_count": null,
      "outputs": [
        {
          "output_type": "execute_result",
          "data": {
            "text/plain": [
              "  Email No.  the  to  ect  and  for  of    a  you  hou  ...  connevey  jay  \\\n",
              "0   Email 1    0   0    1    0    0   0    2    0    0  ...         0    0   \n",
              "1   Email 2    8  13   24    6    6   2  102    1   27  ...         0    0   \n",
              "2   Email 3    0   0    1    0    0   0    8    0    0  ...         0    0   \n",
              "3   Email 4    0   5   22    0    5   1   51    2   10  ...         0    0   \n",
              "4   Email 5    7   6   17    1    5   2   57    0    9  ...         0    0   \n",
              "\n",
              "   valued  lay  infrastructure  military  allowing  ff  dry  Prediction  \n",
              "0       0    0               0         0         0   0    0           0  \n",
              "1       0    0               0         0         0   1    0           0  \n",
              "2       0    0               0         0         0   0    0           0  \n",
              "3       0    0               0         0         0   0    0           0  \n",
              "4       0    0               0         0         0   1    0           0  \n",
              "\n",
              "[5 rows x 3002 columns]"
            ],
            "text/html": [
              "\n",
              "  <div id=\"df-c2fbdf5a-e35d-4f89-9258-dcf6140e4ea0\" class=\"colab-df-container\">\n",
              "    <div>\n",
              "<style scoped>\n",
              "    .dataframe tbody tr th:only-of-type {\n",
              "        vertical-align: middle;\n",
              "    }\n",
              "\n",
              "    .dataframe tbody tr th {\n",
              "        vertical-align: top;\n",
              "    }\n",
              "\n",
              "    .dataframe thead th {\n",
              "        text-align: right;\n",
              "    }\n",
              "</style>\n",
              "<table border=\"1\" class=\"dataframe\">\n",
              "  <thead>\n",
              "    <tr style=\"text-align: right;\">\n",
              "      <th></th>\n",
              "      <th>Email No.</th>\n",
              "      <th>the</th>\n",
              "      <th>to</th>\n",
              "      <th>ect</th>\n",
              "      <th>and</th>\n",
              "      <th>for</th>\n",
              "      <th>of</th>\n",
              "      <th>a</th>\n",
              "      <th>you</th>\n",
              "      <th>hou</th>\n",
              "      <th>...</th>\n",
              "      <th>connevey</th>\n",
              "      <th>jay</th>\n",
              "      <th>valued</th>\n",
              "      <th>lay</th>\n",
              "      <th>infrastructure</th>\n",
              "      <th>military</th>\n",
              "      <th>allowing</th>\n",
              "      <th>ff</th>\n",
              "      <th>dry</th>\n",
              "      <th>Prediction</th>\n",
              "    </tr>\n",
              "  </thead>\n",
              "  <tbody>\n",
              "    <tr>\n",
              "      <th>0</th>\n",
              "      <td>Email 1</td>\n",
              "      <td>0</td>\n",
              "      <td>0</td>\n",
              "      <td>1</td>\n",
              "      <td>0</td>\n",
              "      <td>0</td>\n",
              "      <td>0</td>\n",
              "      <td>2</td>\n",
              "      <td>0</td>\n",
              "      <td>0</td>\n",
              "      <td>...</td>\n",
              "      <td>0</td>\n",
              "      <td>0</td>\n",
              "      <td>0</td>\n",
              "      <td>0</td>\n",
              "      <td>0</td>\n",
              "      <td>0</td>\n",
              "      <td>0</td>\n",
              "      <td>0</td>\n",
              "      <td>0</td>\n",
              "      <td>0</td>\n",
              "    </tr>\n",
              "    <tr>\n",
              "      <th>1</th>\n",
              "      <td>Email 2</td>\n",
              "      <td>8</td>\n",
              "      <td>13</td>\n",
              "      <td>24</td>\n",
              "      <td>6</td>\n",
              "      <td>6</td>\n",
              "      <td>2</td>\n",
              "      <td>102</td>\n",
              "      <td>1</td>\n",
              "      <td>27</td>\n",
              "      <td>...</td>\n",
              "      <td>0</td>\n",
              "      <td>0</td>\n",
              "      <td>0</td>\n",
              "      <td>0</td>\n",
              "      <td>0</td>\n",
              "      <td>0</td>\n",
              "      <td>0</td>\n",
              "      <td>1</td>\n",
              "      <td>0</td>\n",
              "      <td>0</td>\n",
              "    </tr>\n",
              "    <tr>\n",
              "      <th>2</th>\n",
              "      <td>Email 3</td>\n",
              "      <td>0</td>\n",
              "      <td>0</td>\n",
              "      <td>1</td>\n",
              "      <td>0</td>\n",
              "      <td>0</td>\n",
              "      <td>0</td>\n",
              "      <td>8</td>\n",
              "      <td>0</td>\n",
              "      <td>0</td>\n",
              "      <td>...</td>\n",
              "      <td>0</td>\n",
              "      <td>0</td>\n",
              "      <td>0</td>\n",
              "      <td>0</td>\n",
              "      <td>0</td>\n",
              "      <td>0</td>\n",
              "      <td>0</td>\n",
              "      <td>0</td>\n",
              "      <td>0</td>\n",
              "      <td>0</td>\n",
              "    </tr>\n",
              "    <tr>\n",
              "      <th>3</th>\n",
              "      <td>Email 4</td>\n",
              "      <td>0</td>\n",
              "      <td>5</td>\n",
              "      <td>22</td>\n",
              "      <td>0</td>\n",
              "      <td>5</td>\n",
              "      <td>1</td>\n",
              "      <td>51</td>\n",
              "      <td>2</td>\n",
              "      <td>10</td>\n",
              "      <td>...</td>\n",
              "      <td>0</td>\n",
              "      <td>0</td>\n",
              "      <td>0</td>\n",
              "      <td>0</td>\n",
              "      <td>0</td>\n",
              "      <td>0</td>\n",
              "      <td>0</td>\n",
              "      <td>0</td>\n",
              "      <td>0</td>\n",
              "      <td>0</td>\n",
              "    </tr>\n",
              "    <tr>\n",
              "      <th>4</th>\n",
              "      <td>Email 5</td>\n",
              "      <td>7</td>\n",
              "      <td>6</td>\n",
              "      <td>17</td>\n",
              "      <td>1</td>\n",
              "      <td>5</td>\n",
              "      <td>2</td>\n",
              "      <td>57</td>\n",
              "      <td>0</td>\n",
              "      <td>9</td>\n",
              "      <td>...</td>\n",
              "      <td>0</td>\n",
              "      <td>0</td>\n",
              "      <td>0</td>\n",
              "      <td>0</td>\n",
              "      <td>0</td>\n",
              "      <td>0</td>\n",
              "      <td>0</td>\n",
              "      <td>1</td>\n",
              "      <td>0</td>\n",
              "      <td>0</td>\n",
              "    </tr>\n",
              "  </tbody>\n",
              "</table>\n",
              "<p>5 rows × 3002 columns</p>\n",
              "</div>\n",
              "    <div class=\"colab-df-buttons\">\n",
              "\n",
              "  <div class=\"colab-df-container\">\n",
              "    <button class=\"colab-df-convert\" onclick=\"convertToInteractive('df-c2fbdf5a-e35d-4f89-9258-dcf6140e4ea0')\"\n",
              "            title=\"Convert this dataframe to an interactive table.\"\n",
              "            style=\"display:none;\">\n",
              "\n",
              "  <svg xmlns=\"http://www.w3.org/2000/svg\" height=\"24px\" viewBox=\"0 -960 960 960\">\n",
              "    <path d=\"M120-120v-720h720v720H120Zm60-500h600v-160H180v160Zm220 220h160v-160H400v160Zm0 220h160v-160H400v160ZM180-400h160v-160H180v160Zm440 0h160v-160H620v160ZM180-180h160v-160H180v160Zm440 0h160v-160H620v160Z\"/>\n",
              "  </svg>\n",
              "    </button>\n",
              "\n",
              "  <style>\n",
              "    .colab-df-container {\n",
              "      display:flex;\n",
              "      gap: 12px;\n",
              "    }\n",
              "\n",
              "    .colab-df-convert {\n",
              "      background-color: #E8F0FE;\n",
              "      border: none;\n",
              "      border-radius: 50%;\n",
              "      cursor: pointer;\n",
              "      display: none;\n",
              "      fill: #1967D2;\n",
              "      height: 32px;\n",
              "      padding: 0 0 0 0;\n",
              "      width: 32px;\n",
              "    }\n",
              "\n",
              "    .colab-df-convert:hover {\n",
              "      background-color: #E2EBFA;\n",
              "      box-shadow: 0px 1px 2px rgba(60, 64, 67, 0.3), 0px 1px 3px 1px rgba(60, 64, 67, 0.15);\n",
              "      fill: #174EA6;\n",
              "    }\n",
              "\n",
              "    .colab-df-buttons div {\n",
              "      margin-bottom: 4px;\n",
              "    }\n",
              "\n",
              "    [theme=dark] .colab-df-convert {\n",
              "      background-color: #3B4455;\n",
              "      fill: #D2E3FC;\n",
              "    }\n",
              "\n",
              "    [theme=dark] .colab-df-convert:hover {\n",
              "      background-color: #434B5C;\n",
              "      box-shadow: 0px 1px 3px 1px rgba(0, 0, 0, 0.15);\n",
              "      filter: drop-shadow(0px 1px 2px rgba(0, 0, 0, 0.3));\n",
              "      fill: #FFFFFF;\n",
              "    }\n",
              "  </style>\n",
              "\n",
              "    <script>\n",
              "      const buttonEl =\n",
              "        document.querySelector('#df-c2fbdf5a-e35d-4f89-9258-dcf6140e4ea0 button.colab-df-convert');\n",
              "      buttonEl.style.display =\n",
              "        google.colab.kernel.accessAllowed ? 'block' : 'none';\n",
              "\n",
              "      async function convertToInteractive(key) {\n",
              "        const element = document.querySelector('#df-c2fbdf5a-e35d-4f89-9258-dcf6140e4ea0');\n",
              "        const dataTable =\n",
              "          await google.colab.kernel.invokeFunction('convertToInteractive',\n",
              "                                                    [key], {});\n",
              "        if (!dataTable) return;\n",
              "\n",
              "        const docLinkHtml = 'Like what you see? Visit the ' +\n",
              "          '<a target=\"_blank\" href=https://colab.research.google.com/notebooks/data_table.ipynb>data table notebook</a>'\n",
              "          + ' to learn more about interactive tables.';\n",
              "        element.innerHTML = '';\n",
              "        dataTable['output_type'] = 'display_data';\n",
              "        await google.colab.output.renderOutput(dataTable, element);\n",
              "        const docLink = document.createElement('div');\n",
              "        docLink.innerHTML = docLinkHtml;\n",
              "        element.appendChild(docLink);\n",
              "      }\n",
              "    </script>\n",
              "  </div>\n",
              "\n",
              "\n",
              "<div id=\"df-51263df6-3e19-4061-b45e-ebc1568e1d16\">\n",
              "  <button class=\"colab-df-quickchart\" onclick=\"quickchart('df-51263df6-3e19-4061-b45e-ebc1568e1d16')\"\n",
              "            title=\"Suggest charts\"\n",
              "            style=\"display:none;\">\n",
              "\n",
              "<svg xmlns=\"http://www.w3.org/2000/svg\" height=\"24px\"viewBox=\"0 0 24 24\"\n",
              "     width=\"24px\">\n",
              "    <g>\n",
              "        <path d=\"M19 3H5c-1.1 0-2 .9-2 2v14c0 1.1.9 2 2 2h14c1.1 0 2-.9 2-2V5c0-1.1-.9-2-2-2zM9 17H7v-7h2v7zm4 0h-2V7h2v10zm4 0h-2v-4h2v4z\"/>\n",
              "    </g>\n",
              "</svg>\n",
              "  </button>\n",
              "\n",
              "<style>\n",
              "  .colab-df-quickchart {\n",
              "      --bg-color: #E8F0FE;\n",
              "      --fill-color: #1967D2;\n",
              "      --hover-bg-color: #E2EBFA;\n",
              "      --hover-fill-color: #174EA6;\n",
              "      --disabled-fill-color: #AAA;\n",
              "      --disabled-bg-color: #DDD;\n",
              "  }\n",
              "\n",
              "  [theme=dark] .colab-df-quickchart {\n",
              "      --bg-color: #3B4455;\n",
              "      --fill-color: #D2E3FC;\n",
              "      --hover-bg-color: #434B5C;\n",
              "      --hover-fill-color: #FFFFFF;\n",
              "      --disabled-bg-color: #3B4455;\n",
              "      --disabled-fill-color: #666;\n",
              "  }\n",
              "\n",
              "  .colab-df-quickchart {\n",
              "    background-color: var(--bg-color);\n",
              "    border: none;\n",
              "    border-radius: 50%;\n",
              "    cursor: pointer;\n",
              "    display: none;\n",
              "    fill: var(--fill-color);\n",
              "    height: 32px;\n",
              "    padding: 0;\n",
              "    width: 32px;\n",
              "  }\n",
              "\n",
              "  .colab-df-quickchart:hover {\n",
              "    background-color: var(--hover-bg-color);\n",
              "    box-shadow: 0 1px 2px rgba(60, 64, 67, 0.3), 0 1px 3px 1px rgba(60, 64, 67, 0.15);\n",
              "    fill: var(--button-hover-fill-color);\n",
              "  }\n",
              "\n",
              "  .colab-df-quickchart-complete:disabled,\n",
              "  .colab-df-quickchart-complete:disabled:hover {\n",
              "    background-color: var(--disabled-bg-color);\n",
              "    fill: var(--disabled-fill-color);\n",
              "    box-shadow: none;\n",
              "  }\n",
              "\n",
              "  .colab-df-spinner {\n",
              "    border: 2px solid var(--fill-color);\n",
              "    border-color: transparent;\n",
              "    border-bottom-color: var(--fill-color);\n",
              "    animation:\n",
              "      spin 1s steps(1) infinite;\n",
              "  }\n",
              "\n",
              "  @keyframes spin {\n",
              "    0% {\n",
              "      border-color: transparent;\n",
              "      border-bottom-color: var(--fill-color);\n",
              "      border-left-color: var(--fill-color);\n",
              "    }\n",
              "    20% {\n",
              "      border-color: transparent;\n",
              "      border-left-color: var(--fill-color);\n",
              "      border-top-color: var(--fill-color);\n",
              "    }\n",
              "    30% {\n",
              "      border-color: transparent;\n",
              "      border-left-color: var(--fill-color);\n",
              "      border-top-color: var(--fill-color);\n",
              "      border-right-color: var(--fill-color);\n",
              "    }\n",
              "    40% {\n",
              "      border-color: transparent;\n",
              "      border-right-color: var(--fill-color);\n",
              "      border-top-color: var(--fill-color);\n",
              "    }\n",
              "    60% {\n",
              "      border-color: transparent;\n",
              "      border-right-color: var(--fill-color);\n",
              "    }\n",
              "    80% {\n",
              "      border-color: transparent;\n",
              "      border-right-color: var(--fill-color);\n",
              "      border-bottom-color: var(--fill-color);\n",
              "    }\n",
              "    90% {\n",
              "      border-color: transparent;\n",
              "      border-bottom-color: var(--fill-color);\n",
              "    }\n",
              "  }\n",
              "</style>\n",
              "\n",
              "  <script>\n",
              "    async function quickchart(key) {\n",
              "      const quickchartButtonEl =\n",
              "        document.querySelector('#' + key + ' button');\n",
              "      quickchartButtonEl.disabled = true;  // To prevent multiple clicks.\n",
              "      quickchartButtonEl.classList.add('colab-df-spinner');\n",
              "      try {\n",
              "        const charts = await google.colab.kernel.invokeFunction(\n",
              "            'suggestCharts', [key], {});\n",
              "      } catch (error) {\n",
              "        console.error('Error during call to suggestCharts:', error);\n",
              "      }\n",
              "      quickchartButtonEl.classList.remove('colab-df-spinner');\n",
              "      quickchartButtonEl.classList.add('colab-df-quickchart-complete');\n",
              "    }\n",
              "    (() => {\n",
              "      let quickchartButtonEl =\n",
              "        document.querySelector('#df-51263df6-3e19-4061-b45e-ebc1568e1d16 button');\n",
              "      quickchartButtonEl.style.display =\n",
              "        google.colab.kernel.accessAllowed ? 'block' : 'none';\n",
              "    })();\n",
              "  </script>\n",
              "</div>\n",
              "    </div>\n",
              "  </div>\n"
            ]
          },
          "metadata": {},
          "execution_count": 10
        }
      ]
    },
    {
      "cell_type": "markdown",
      "source": [
        "Elimino la colonna con l'identificativo delle e-mail e conto le istanze che presentano come variabile target 0 (non spam) e 1 (spam)"
      ],
      "metadata": {
        "id": "tgJcKk7SPIMu"
      }
    },
    {
      "cell_type": "code",
      "source": [
        "df.drop(columns=['Email No.'], inplace=True)\n",
        "df['Prediction'].value_counts()"
      ],
      "metadata": {
        "colab": {
          "base_uri": "https://localhost:8080/"
        },
        "id": "CL1SasgwbVT6",
        "outputId": "570c34c2-1250-4e56-e613-877c671c34df"
      },
      "execution_count": null,
      "outputs": [
        {
          "output_type": "execute_result",
          "data": {
            "text/plain": [
              "0    3672\n",
              "1    1500\n",
              "Name: Prediction, dtype: int64"
            ]
          },
          "metadata": {},
          "execution_count": 16
        }
      ]
    },
    {
      "cell_type": "markdown",
      "source": [
        "Il dataset non è fortemente sbilanciato, è possibile procedere con l'analisi delle features, dati mancanti e outliers"
      ],
      "metadata": {
        "id": "nqH9G11VPO-t"
      }
    },
    {
      "cell_type": "code",
      "source": [
        "print(\"null values:\")\n",
        "sum(df.isna().sum())"
      ],
      "metadata": {
        "colab": {
          "base_uri": "https://localhost:8080/"
        },
        "id": "BVhWzM0_cMa3",
        "outputId": "52cba477-f77c-467c-9010-5c1b6671bb19"
      },
      "execution_count": null,
      "outputs": [
        {
          "output_type": "stream",
          "name": "stdout",
          "text": [
            "null values:\n"
          ]
        },
        {
          "output_type": "execute_result",
          "data": {
            "text/plain": [
              "0"
            ]
          },
          "metadata": {},
          "execution_count": 19
        }
      ]
    },
    {
      "cell_type": "markdown",
      "source": [
        "Non vi sono dati mancanti all'interno del dataset, ma è possibile notare l'elevato numero di outlier per ogni feature. Tuttavia, si ritiene non utile l'eliminazione di questi ultimi in quanto rappresentano la maggiorparte dei valori e portatori di significato."
      ],
      "metadata": {
        "id": "pMjtULq2PjkM"
      }
    },
    {
      "cell_type": "code",
      "source": [
        "X = df.drop('Prediction', axis=1).values\n",
        "Y = df['Prediction'].values"
      ],
      "metadata": {
        "id": "ivWDF_T9bWww"
      },
      "execution_count": null,
      "outputs": []
    },
    {
      "cell_type": "markdown",
      "source": [
        "Si procede con la suddivisione del dataset in train dataset e test dataset tramite hold-out, riservando l'80% dei sample per il training"
      ],
      "metadata": {
        "id": "um1pjztEP9Ti"
      }
    },
    {
      "cell_type": "code",
      "source": [
        "x_train, x_test, y_train, y_test = train_test_split(X, Y, test_size=0.2, random_state=42)"
      ],
      "metadata": {
        "id": "R_vW6wT9bYRR"
      },
      "execution_count": null,
      "outputs": []
    },
    {
      "cell_type": "markdown",
      "source": [
        "## Logistic Regression"
      ],
      "metadata": {
        "id": "tLFTog8fdwSi"
      }
    },
    {
      "cell_type": "markdown",
      "source": [
        "Applicazione di z-score normalization su train e test dataset"
      ],
      "metadata": {
        "id": "4JzaGVCRQVHA"
      }
    },
    {
      "cell_type": "code",
      "source": [
        "sc = StandardScaler()\n",
        "x_train_sc = sc.fit_transform(x_train)\n",
        "x_test_sc = sc.transform(x_test)"
      ],
      "metadata": {
        "id": "QaU3QC1obaIo"
      },
      "execution_count": null,
      "outputs": []
    },
    {
      "cell_type": "markdown",
      "source": [
        "Il modello `SGDClassifier` della libreria `scikit-learn` è allenato con sul train dataset mantenendo i paramtri di default. Il modello implementa la Logistic Regression utilizzando Stochastic Gradient Descent"
      ],
      "metadata": {
        "id": "aeMEkEdYQbsU"
      }
    },
    {
      "cell_type": "code",
      "source": [
        "model = SGDClassifier(random_state=42)\n",
        "model.fit(x_train_sc, y_train)"
      ],
      "metadata": {
        "colab": {
          "base_uri": "https://localhost:8080/",
          "height": 75
        },
        "id": "fX0YvyIBbcN8",
        "outputId": "0ffd296e-8772-4889-abcc-87ce5aa493aa"
      },
      "execution_count": null,
      "outputs": [
        {
          "output_type": "execute_result",
          "data": {
            "text/plain": [
              "SGDClassifier(random_state=42)"
            ],
            "text/html": [
              "<style>#sk-container-id-1 {color: black;background-color: white;}#sk-container-id-1 pre{padding: 0;}#sk-container-id-1 div.sk-toggleable {background-color: white;}#sk-container-id-1 label.sk-toggleable__label {cursor: pointer;display: block;width: 100%;margin-bottom: 0;padding: 0.3em;box-sizing: border-box;text-align: center;}#sk-container-id-1 label.sk-toggleable__label-arrow:before {content: \"▸\";float: left;margin-right: 0.25em;color: #696969;}#sk-container-id-1 label.sk-toggleable__label-arrow:hover:before {color: black;}#sk-container-id-1 div.sk-estimator:hover label.sk-toggleable__label-arrow:before {color: black;}#sk-container-id-1 div.sk-toggleable__content {max-height: 0;max-width: 0;overflow: hidden;text-align: left;background-color: #f0f8ff;}#sk-container-id-1 div.sk-toggleable__content pre {margin: 0.2em;color: black;border-radius: 0.25em;background-color: #f0f8ff;}#sk-container-id-1 input.sk-toggleable__control:checked~div.sk-toggleable__content {max-height: 200px;max-width: 100%;overflow: auto;}#sk-container-id-1 input.sk-toggleable__control:checked~label.sk-toggleable__label-arrow:before {content: \"▾\";}#sk-container-id-1 div.sk-estimator input.sk-toggleable__control:checked~label.sk-toggleable__label {background-color: #d4ebff;}#sk-container-id-1 div.sk-label input.sk-toggleable__control:checked~label.sk-toggleable__label {background-color: #d4ebff;}#sk-container-id-1 input.sk-hidden--visually {border: 0;clip: rect(1px 1px 1px 1px);clip: rect(1px, 1px, 1px, 1px);height: 1px;margin: -1px;overflow: hidden;padding: 0;position: absolute;width: 1px;}#sk-container-id-1 div.sk-estimator {font-family: monospace;background-color: #f0f8ff;border: 1px dotted black;border-radius: 0.25em;box-sizing: border-box;margin-bottom: 0.5em;}#sk-container-id-1 div.sk-estimator:hover {background-color: #d4ebff;}#sk-container-id-1 div.sk-parallel-item::after {content: \"\";width: 100%;border-bottom: 1px solid gray;flex-grow: 1;}#sk-container-id-1 div.sk-label:hover label.sk-toggleable__label {background-color: #d4ebff;}#sk-container-id-1 div.sk-serial::before {content: \"\";position: absolute;border-left: 1px solid gray;box-sizing: border-box;top: 0;bottom: 0;left: 50%;z-index: 0;}#sk-container-id-1 div.sk-serial {display: flex;flex-direction: column;align-items: center;background-color: white;padding-right: 0.2em;padding-left: 0.2em;position: relative;}#sk-container-id-1 div.sk-item {position: relative;z-index: 1;}#sk-container-id-1 div.sk-parallel {display: flex;align-items: stretch;justify-content: center;background-color: white;position: relative;}#sk-container-id-1 div.sk-item::before, #sk-container-id-1 div.sk-parallel-item::before {content: \"\";position: absolute;border-left: 1px solid gray;box-sizing: border-box;top: 0;bottom: 0;left: 50%;z-index: -1;}#sk-container-id-1 div.sk-parallel-item {display: flex;flex-direction: column;z-index: 1;position: relative;background-color: white;}#sk-container-id-1 div.sk-parallel-item:first-child::after {align-self: flex-end;width: 50%;}#sk-container-id-1 div.sk-parallel-item:last-child::after {align-self: flex-start;width: 50%;}#sk-container-id-1 div.sk-parallel-item:only-child::after {width: 0;}#sk-container-id-1 div.sk-dashed-wrapped {border: 1px dashed gray;margin: 0 0.4em 0.5em 0.4em;box-sizing: border-box;padding-bottom: 0.4em;background-color: white;}#sk-container-id-1 div.sk-label label {font-family: monospace;font-weight: bold;display: inline-block;line-height: 1.2em;}#sk-container-id-1 div.sk-label-container {text-align: center;}#sk-container-id-1 div.sk-container {/* jupyter's `normalize.less` sets `[hidden] { display: none; }` but bootstrap.min.css set `[hidden] { display: none !important; }` so we also need the `!important` here to be able to override the default hidden behavior on the sphinx rendered scikit-learn.org. See: https://github.com/scikit-learn/scikit-learn/issues/21755 */display: inline-block !important;position: relative;}#sk-container-id-1 div.sk-text-repr-fallback {display: none;}</style><div id=\"sk-container-id-1\" class=\"sk-top-container\"><div class=\"sk-text-repr-fallback\"><pre>SGDClassifier(random_state=42)</pre><b>In a Jupyter environment, please rerun this cell to show the HTML representation or trust the notebook. <br />On GitHub, the HTML representation is unable to render, please try loading this page with nbviewer.org.</b></div><div class=\"sk-container\" hidden><div class=\"sk-item\"><div class=\"sk-estimator sk-toggleable\"><input class=\"sk-toggleable__control sk-hidden--visually\" id=\"sk-estimator-id-1\" type=\"checkbox\" checked><label for=\"sk-estimator-id-1\" class=\"sk-toggleable__label sk-toggleable__label-arrow\">SGDClassifier</label><div class=\"sk-toggleable__content\"><pre>SGDClassifier(random_state=42)</pre></div></div></div></div></div>"
            ]
          },
          "metadata": {},
          "execution_count": 23
        }
      ]
    },
    {
      "cell_type": "markdown",
      "source": [
        "Predizione sul test datset e risultati"
      ],
      "metadata": {
        "id": "0G_PXw1kQ11f"
      }
    },
    {
      "cell_type": "code",
      "source": [
        "y_preds = model.predict(x_test_sc)\n",
        "print(f\"Classification Report:\")\n",
        "print(classification_report(y_test, y_preds))"
      ],
      "metadata": {
        "colab": {
          "base_uri": "https://localhost:8080/"
        },
        "id": "bVwONK52bdde",
        "outputId": "41d9f9bc-cf15-48f1-915a-414c34ffc5c1"
      },
      "execution_count": null,
      "outputs": [
        {
          "output_type": "stream",
          "name": "stdout",
          "text": [
            "Classification Report:\n",
            "              precision    recall  f1-score   support\n",
            "\n",
            "           0       0.93      0.99      0.96       739\n",
            "           1       0.98      0.82      0.90       296\n",
            "\n",
            "    accuracy                           0.94      1035\n",
            "   macro avg       0.96      0.91      0.93      1035\n",
            "weighted avg       0.95      0.94      0.94      1035\n",
            "\n"
          ]
        }
      ]
    },
    {
      "cell_type": "code",
      "source": [
        "ConfusionMatrixDisplay.from_predictions(y_test, y_preds)"
      ],
      "metadata": {
        "colab": {
          "base_uri": "https://localhost:8080/",
          "height": 466
        },
        "id": "yGrrnB-9bfXn",
        "outputId": "0722fe5b-318b-43f5-dc70-768fe568ea3f"
      },
      "execution_count": null,
      "outputs": [
        {
          "output_type": "execute_result",
          "data": {
            "text/plain": [
              "<sklearn.metrics._plot.confusion_matrix.ConfusionMatrixDisplay at 0x7b1c59ffafb0>"
            ]
          },
          "metadata": {},
          "execution_count": 25
        },
        {
          "output_type": "display_data",
          "data": {
            "text/plain": [
              "<Figure size 640x480 with 2 Axes>"
            ],
            "image/png": "[encoded data removed]"
          },
          "metadata": {}
        }
      ]
    },
    {
      "cell_type": "markdown",
      "source": [
        "Il modello si comporta molto bene (recall > 0.9), inoltre i false positive (mail classificate come spam che sono in realtà non spam) sono minori dei false negative (mail classificate come non spam che sono in realtà sono spam). Nei blocchi successivi si prova ad incrementare le performance del modello."
      ],
      "metadata": {
        "id": "Z368vhpAQ7Rs"
      }
    },
    {
      "cell_type": "markdown",
      "source": [
        "## With PCA"
      ],
      "metadata": {
        "id": "lyn_INGId4HJ"
      }
    },
    {
      "cell_type": "markdown",
      "source": [
        "Di seguito si applica la PCA (Principal Component Analysis) per poter ridurre la dimensione delle features trattenendo un certa percentuale di varianza. Nella tabella sono mostrati i numeri di componenti per poter ritenere una varianza almeno dell'80% (0.8)"
      ],
      "metadata": {
        "id": "0z3lSB0oSyZ0"
      }
    },
    {
      "cell_type": "code",
      "source": [
        "sc = StandardScaler()\n",
        "x_train_sc = sc.fit_transform(x_train)\n",
        "x_test_sc = sc.transform(x_test)\n",
        "\n",
        "pca = PCA(random_state=42)\n",
        "\n",
        "pca.fit(x_train_sc)\n",
        "var_exp = pca.explained_variance_ratio_\n",
        "cum_var_exp = np.cumsum(var_exp)\n",
        "\n",
        "pca_results = pd.DataFrame({\n",
        "    \"component\": [i+1 for i in range(0, len(cum_var_exp))],\n",
        "    \"cumulative_variance\": [var for var in cum_var_exp]\n",
        "})\n",
        "\n",
        "exp_var_threshold = 0.8\n",
        "\n",
        "valid_pca_results = pca_results[pca_results['cumulative_variance'] > exp_var_threshold]\n",
        "\n",
        "print(f\"Components with cumulative variance over threshold of {exp_var_threshold}\")\n",
        "valid_pca_results.head()"
      ],
      "metadata": {
        "id": "iBf26ArXd8FY",
        "colab": {
          "base_uri": "https://localhost:8080/",
          "height": 224
        },
        "outputId": "5753a56e-9033-4289-cf0b-c2f447b6caa5"
      },
      "execution_count": null,
      "outputs": [
        {
          "output_type": "stream",
          "name": "stdout",
          "text": [
            "Components with cumulative variance over threshold of 0.8\n"
          ]
        },
        {
          "output_type": "execute_result",
          "data": {
            "text/plain": [
              "     component  cumulative_variance\n",
              "439        440             0.800000\n",
              "440        441             0.800517\n",
              "441        442             0.801033\n",
              "442        443             0.801548\n",
              "443        444             0.802061"
            ],
            "text/html": [
              "\n",
              "  <div id=\"df-a40bc02f-53ad-4ff5-9dd3-711e7e041013\" class=\"colab-df-container\">\n",
              "    <div>\n",
              "<style scoped>\n",
              "    .dataframe tbody tr th:only-of-type {\n",
              "        vertical-align: middle;\n",
              "    }\n",
              "\n",
              "    .dataframe tbody tr th {\n",
              "        vertical-align: top;\n",
              "    }\n",
              "\n",
              "    .dataframe thead th {\n",
              "        text-align: right;\n",
              "    }\n",
              "</style>\n",
              "<table border=\"1\" class=\"dataframe\">\n",
              "  <thead>\n",
              "    <tr style=\"text-align: right;\">\n",
              "      <th></th>\n",
              "      <th>component</th>\n",
              "      <th>cumulative_variance</th>\n",
              "    </tr>\n",
              "  </thead>\n",
              "  <tbody>\n",
              "    <tr>\n",
              "      <th>439</th>\n",
              "      <td>440</td>\n",
              "      <td>0.800000</td>\n",
              "    </tr>\n",
              "    <tr>\n",
              "      <th>440</th>\n",
              "      <td>441</td>\n",
              "      <td>0.800517</td>\n",
              "    </tr>\n",
              "    <tr>\n",
              "      <th>441</th>\n",
              "      <td>442</td>\n",
              "      <td>0.801033</td>\n",
              "    </tr>\n",
              "    <tr>\n",
              "      <th>442</th>\n",
              "      <td>443</td>\n",
              "      <td>0.801548</td>\n",
              "    </tr>\n",
              "    <tr>\n",
              "      <th>443</th>\n",
              "      <td>444</td>\n",
              "      <td>0.802061</td>\n",
              "    </tr>\n",
              "  </tbody>\n",
              "</table>\n",
              "</div>\n",
              "    <div class=\"colab-df-buttons\">\n",
              "\n",
              "  <div class=\"colab-df-container\">\n",
              "    <button class=\"colab-df-convert\" onclick=\"convertToInteractive('df-a40bc02f-53ad-4ff5-9dd3-711e7e041013')\"\n",
              "            title=\"Convert this dataframe to an interactive table.\"\n",
              "            style=\"display:none;\">\n",
              "\n",
              "  <svg xmlns=\"http://www.w3.org/2000/svg\" height=\"24px\" viewBox=\"0 -960 960 960\">\n",
              "    <path d=\"M120-120v-720h720v720H120Zm60-500h600v-160H180v160Zm220 220h160v-160H400v160Zm0 220h160v-160H400v160ZM180-400h160v-160H180v160Zm440 0h160v-160H620v160ZM180-180h160v-160H180v160Zm440 0h160v-160H620v160Z\"/>\n",
              "  </svg>\n",
              "    </button>\n",
              "\n",
              "  <style>\n",
              "    .colab-df-container {\n",
              "      display:flex;\n",
              "      gap: 12px;\n",
              "    }\n",
              "\n",
              "    .colab-df-convert {\n",
              "      background-color: #E8F0FE;\n",
              "      border: none;\n",
              "      border-radius: 50%;\n",
              "      cursor: pointer;\n",
              "      display: none;\n",
              "      fill: #1967D2;\n",
              "      height: 32px;\n",
              "      padding: 0 0 0 0;\n",
              "      width: 32px;\n",
              "    }\n",
              "\n",
              "    .colab-df-convert:hover {\n",
              "      background-color: #E2EBFA;\n",
              "      box-shadow: 0px 1px 2px rgba(60, 64, 67, 0.3), 0px 1px 3px 1px rgba(60, 64, 67, 0.15);\n",
              "      fill: #174EA6;\n",
              "    }\n",
              "\n",
              "    .colab-df-buttons div {\n",
              "      margin-bottom: 4px;\n",
              "    }\n",
              "\n",
              "    [theme=dark] .colab-df-convert {\n",
              "      background-color: #3B4455;\n",
              "      fill: #D2E3FC;\n",
              "    }\n",
              "\n",
              "    [theme=dark] .colab-df-convert:hover {\n",
              "      background-color: #434B5C;\n",
              "      box-shadow: 0px 1px 3px 1px rgba(0, 0, 0, 0.15);\n",
              "      filter: drop-shadow(0px 1px 2px rgba(0, 0, 0, 0.3));\n",
              "      fill: #FFFFFF;\n",
              "    }\n",
              "  </style>\n",
              "\n",
              "    <script>\n",
              "      const buttonEl =\n",
              "        document.querySelector('#df-a40bc02f-53ad-4ff5-9dd3-711e7e041013 button.colab-df-convert');\n",
              "      buttonEl.style.display =\n",
              "        google.colab.kernel.accessAllowed ? 'block' : 'none';\n",
              "\n",
              "      async function convertToInteractive(key) {\n",
              "        const element = document.querySelector('#df-a40bc02f-53ad-4ff5-9dd3-711e7e041013');\n",
              "        const dataTable =\n",
              "          await google.colab.kernel.invokeFunction('convertToInteractive',\n",
              "                                                    [key], {});\n",
              "        if (!dataTable) return;\n",
              "\n",
              "        const docLinkHtml = 'Like what you see? Visit the ' +\n",
              "          '<a target=\"_blank\" href=https://colab.research.google.com/notebooks/data_table.ipynb>data table notebook</a>'\n",
              "          + ' to learn more about interactive tables.';\n",
              "        element.innerHTML = '';\n",
              "        dataTable['output_type'] = 'display_data';\n",
              "        await google.colab.output.renderOutput(dataTable, element);\n",
              "        const docLink = document.createElement('div');\n",
              "        docLink.innerHTML = docLinkHtml;\n",
              "        element.appendChild(docLink);\n",
              "      }\n",
              "    </script>\n",
              "  </div>\n",
              "\n",
              "\n",
              "<div id=\"df-50faf5a8-e38c-4d5d-92e7-003b674bf462\">\n",
              "  <button class=\"colab-df-quickchart\" onclick=\"quickchart('df-50faf5a8-e38c-4d5d-92e7-003b674bf462')\"\n",
              "            title=\"Suggest charts\"\n",
              "            style=\"display:none;\">\n",
              "\n",
              "<svg xmlns=\"http://www.w3.org/2000/svg\" height=\"24px\"viewBox=\"0 0 24 24\"\n",
              "     width=\"24px\">\n",
              "    <g>\n",
              "        <path d=\"M19 3H5c-1.1 0-2 .9-2 2v14c0 1.1.9 2 2 2h14c1.1 0 2-.9 2-2V5c0-1.1-.9-2-2-2zM9 17H7v-7h2v7zm4 0h-2V7h2v10zm4 0h-2v-4h2v4z\"/>\n",
              "    </g>\n",
              "</svg>\n",
              "  </button>\n",
              "\n",
              "<style>\n",
              "  .colab-df-quickchart {\n",
              "      --bg-color: #E8F0FE;\n",
              "      --fill-color: #1967D2;\n",
              "      --hover-bg-color: #E2EBFA;\n",
              "      --hover-fill-color: #174EA6;\n",
              "      --disabled-fill-color: #AAA;\n",
              "      --disabled-bg-color: #DDD;\n",
              "  }\n",
              "\n",
              "  [theme=dark] .colab-df-quickchart {\n",
              "      --bg-color: #3B4455;\n",
              "      --fill-color: #D2E3FC;\n",
              "      --hover-bg-color: #434B5C;\n",
              "      --hover-fill-color: #FFFFFF;\n",
              "      --disabled-bg-color: #3B4455;\n",
              "      --disabled-fill-color: #666;\n",
              "  }\n",
              "\n",
              "  .colab-df-quickchart {\n",
              "    background-color: var(--bg-color);\n",
              "    border: none;\n",
              "    border-radius: 50%;\n",
              "    cursor: pointer;\n",
              "    display: none;\n",
              "    fill: var(--fill-color);\n",
              "    height: 32px;\n",
              "    padding: 0;\n",
              "    width: 32px;\n",
              "  }\n",
              "\n",
              "  .colab-df-quickchart:hover {\n",
              "    background-color: var(--hover-bg-color);\n",
              "    box-shadow: 0 1px 2px rgba(60, 64, 67, 0.3), 0 1px 3px 1px rgba(60, 64, 67, 0.15);\n",
              "    fill: var(--button-hover-fill-color);\n",
              "  }\n",
              "\n",
              "  .colab-df-quickchart-complete:disabled,\n",
              "  .colab-df-quickchart-complete:disabled:hover {\n",
              "    background-color: var(--disabled-bg-color);\n",
              "    fill: var(--disabled-fill-color);\n",
              "    box-shadow: none;\n",
              "  }\n",
              "\n",
              "  .colab-df-spinner {\n",
              "    border: 2px solid var(--fill-color);\n",
              "    border-color: transparent;\n",
              "    border-bottom-color: var(--fill-color);\n",
              "    animation:\n",
              "      spin 1s steps(1) infinite;\n",
              "  }\n",
              "\n",
              "  @keyframes spin {\n",
              "    0% {\n",
              "      border-color: transparent;\n",
              "      border-bottom-color: var(--fill-color);\n",
              "      border-left-color: var(--fill-color);\n",
              "    }\n",
              "    20% {\n",
              "      border-color: transparent;\n",
              "      border-left-color: var(--fill-color);\n",
              "      border-top-color: var(--fill-color);\n",
              "    }\n",
              "    30% {\n",
              "      border-color: transparent;\n",
              "      border-left-color: var(--fill-color);\n",
              "      border-top-color: var(--fill-color);\n",
              "      border-right-color: var(--fill-color);\n",
              "    }\n",
              "    40% {\n",
              "      border-color: transparent;\n",
              "      border-right-color: var(--fill-color);\n",
              "      border-top-color: var(--fill-color);\n",
              "    }\n",
              "    60% {\n",
              "      border-color: transparent;\n",
              "      border-right-color: var(--fill-color);\n",
              "    }\n",
              "    80% {\n",
              "      border-color: transparent;\n",
              "      border-right-color: var(--fill-color);\n",
              "      border-bottom-color: var(--fill-color);\n",
              "    }\n",
              "    90% {\n",
              "      border-color: transparent;\n",
              "      border-bottom-color: var(--fill-color);\n",
              "    }\n",
              "  }\n",
              "</style>\n",
              "\n",
              "  <script>\n",
              "    async function quickchart(key) {\n",
              "      const quickchartButtonEl =\n",
              "        document.querySelector('#' + key + ' button');\n",
              "      quickchartButtonEl.disabled = true;  // To prevent multiple clicks.\n",
              "      quickchartButtonEl.classList.add('colab-df-spinner');\n",
              "      try {\n",
              "        const charts = await google.colab.kernel.invokeFunction(\n",
              "            'suggestCharts', [key], {});\n",
              "      } catch (error) {\n",
              "        console.error('Error during call to suggestCharts:', error);\n",
              "      }\n",
              "      quickchartButtonEl.classList.remove('colab-df-spinner');\n",
              "      quickchartButtonEl.classList.add('colab-df-quickchart-complete');\n",
              "    }\n",
              "    (() => {\n",
              "      let quickchartButtonEl =\n",
              "        document.querySelector('#df-50faf5a8-e38c-4d5d-92e7-003b674bf462 button');\n",
              "      quickchartButtonEl.style.display =\n",
              "        google.colab.kernel.accessAllowed ? 'block' : 'none';\n",
              "    })();\n",
              "  </script>\n",
              "</div>\n",
              "    </div>\n",
              "  </div>\n"
            ]
          },
          "metadata": {},
          "execution_count": 26
        }
      ]
    },
    {
      "cell_type": "markdown",
      "source": [
        "Dalla tabella risulta che sono necessarie 440 componenti"
      ],
      "metadata": {
        "id": "0TAa-uyCTYaU"
      }
    },
    {
      "cell_type": "code",
      "source": [
        "n_components = int(valid_pca_results.iloc[0][\"component\"])\n",
        "print(f\"Selected components: {n_components}\")"
      ],
      "metadata": {
        "colab": {
          "base_uri": "https://localhost:8080/"
        },
        "id": "iL2zAy-ywujS",
        "outputId": "c018347b-0d00-4b73-847a-ed626910b428"
      },
      "execution_count": null,
      "outputs": [
        {
          "output_type": "stream",
          "name": "stdout",
          "text": [
            "Selected components: 440\n"
          ]
        }
      ]
    },
    {
      "cell_type": "code",
      "source": [
        "plt.figure(figsize=(8, 6))\n",
        "plt.bar(range(1, len(cum_var_exp) + 1), var_exp, align=\"center\", label=\"individual variance explained\", alpha=0.7)\n",
        "plt.step(range(1, len(cum_var_exp) + 1), cum_var_exp, where=\"mid\", label=\"cumulative variance explained\", color=\"red\")\n",
        "plt.ylabel(\"Explained variance ratio\")\n",
        "plt.xlabel(\"Prinipal components\")\n",
        "plt.xticks(np.arange(1, len(var_exp) + 1, 200))\n",
        "\n",
        "plt.axhline(y=valid_pca_results.iloc[0][\"cumulative_variance\"], color='g', linestyle='--', label=\"selected variance\")\n",
        "plt.axvline(x=n_components, color='g', linestyle='--')\n",
        "\n",
        "plt.legend(loc=\"center right\")\n",
        "\n",
        "plt.show()"
      ],
      "metadata": {
        "colab": {
          "base_uri": "https://localhost:8080/",
          "height": 542
        },
        "id": "pO6_rmG1o7rq",
        "outputId": "2c5ff394-3437-4ca8-8ef2-e71596fae78d"
      },
      "execution_count": null,
      "outputs": [
        {
          "output_type": "display_data",
          "data": {
            "text/plain": [
              "<Figure size 800x600 with 1 Axes>"
            ],
            "image/png": "[encoded data removed]"
          },
          "metadata": {}
        }
      ]
    },
    {
      "cell_type": "markdown",
      "source": [
        "Di seguito è applicata la PCA riducendo il train e test dataset a 440 componenti riallenando l'`SGDClassifier`"
      ],
      "metadata": {
        "id": "XQK_adjyTe6E"
      }
    },
    {
      "cell_type": "code",
      "source": [
        "pca = PCA(n_components=n_components, random_state=42)\n",
        "x_train_pca = pca.fit_transform(x_train_sc)\n",
        "x_test_pca = pca.transform(x_test_sc)"
      ],
      "metadata": {
        "id": "pYyz36PRpHPF"
      },
      "execution_count": null,
      "outputs": []
    },
    {
      "cell_type": "code",
      "source": [
        "model = SGDClassifier(random_state=42)\n",
        "model.fit(x_train_pca, y_train)"
      ],
      "metadata": {
        "colab": {
          "base_uri": "https://localhost:8080/",
          "height": 75
        },
        "id": "RsB7SDQ3pule",
        "outputId": "c245a1a2-d9cd-4b38-d99e-fac2c51137a1"
      },
      "execution_count": null,
      "outputs": [
        {
          "output_type": "execute_result",
          "data": {
            "text/plain": [
              "SGDClassifier(random_state=42)"
            ],
            "text/html": [
              "<style>#sk-container-id-2 {color: black;background-color: white;}#sk-container-id-2 pre{padding: 0;}#sk-container-id-2 div.sk-toggleable {background-color: white;}#sk-container-id-2 label.sk-toggleable__label {cursor: pointer;display: block;width: 100%;margin-bottom: 0;padding: 0.3em;box-sizing: border-box;text-align: center;}#sk-container-id-2 label.sk-toggleable__label-arrow:before {content: \"▸\";float: left;margin-right: 0.25em;color: #696969;}#sk-container-id-2 label.sk-toggleable__label-arrow:hover:before {color: black;}#sk-container-id-2 div.sk-estimator:hover label.sk-toggleable__label-arrow:before {color: black;}#sk-container-id-2 div.sk-toggleable__content {max-height: 0;max-width: 0;overflow: hidden;text-align: left;background-color: #f0f8ff;}#sk-container-id-2 div.sk-toggleable__content pre {margin: 0.2em;color: black;border-radius: 0.25em;background-color: #f0f8ff;}#sk-container-id-2 input.sk-toggleable__control:checked~div.sk-toggleable__content {max-height: 200px;max-width: 100%;overflow: auto;}#sk-container-id-2 input.sk-toggleable__control:checked~label.sk-toggleable__label-arrow:before {content: \"▾\";}#sk-container-id-2 div.sk-estimator input.sk-toggleable__control:checked~label.sk-toggleable__label {background-color: #d4ebff;}#sk-container-id-2 div.sk-label input.sk-toggleable__control:checked~label.sk-toggleable__label {background-color: #d4ebff;}#sk-container-id-2 input.sk-hidden--visually {border: 0;clip: rect(1px 1px 1px 1px);clip: rect(1px, 1px, 1px, 1px);height: 1px;margin: -1px;overflow: hidden;padding: 0;position: absolute;width: 1px;}#sk-container-id-2 div.sk-estimator {font-family: monospace;background-color: #f0f8ff;border: 1px dotted black;border-radius: 0.25em;box-sizing: border-box;margin-bottom: 0.5em;}#sk-container-id-2 div.sk-estimator:hover {background-color: #d4ebff;}#sk-container-id-2 div.sk-parallel-item::after {content: \"\";width: 100%;border-bottom: 1px solid gray;flex-grow: 1;}#sk-container-id-2 div.sk-label:hover label.sk-toggleable__label {background-color: #d4ebff;}#sk-container-id-2 div.sk-serial::before {content: \"\";position: absolute;border-left: 1px solid gray;box-sizing: border-box;top: 0;bottom: 0;left: 50%;z-index: 0;}#sk-container-id-2 div.sk-serial {display: flex;flex-direction: column;align-items: center;background-color: white;padding-right: 0.2em;padding-left: 0.2em;position: relative;}#sk-container-id-2 div.sk-item {position: relative;z-index: 1;}#sk-container-id-2 div.sk-parallel {display: flex;align-items: stretch;justify-content: center;background-color: white;position: relative;}#sk-container-id-2 div.sk-item::before, #sk-container-id-2 div.sk-parallel-item::before {content: \"\";position: absolute;border-left: 1px solid gray;box-sizing: border-box;top: 0;bottom: 0;left: 50%;z-index: -1;}#sk-container-id-2 div.sk-parallel-item {display: flex;flex-direction: column;z-index: 1;position: relative;background-color: white;}#sk-container-id-2 div.sk-parallel-item:first-child::after {align-self: flex-end;width: 50%;}#sk-container-id-2 div.sk-parallel-item:last-child::after {align-self: flex-start;width: 50%;}#sk-container-id-2 div.sk-parallel-item:only-child::after {width: 0;}#sk-container-id-2 div.sk-dashed-wrapped {border: 1px dashed gray;margin: 0 0.4em 0.5em 0.4em;box-sizing: border-box;padding-bottom: 0.4em;background-color: white;}#sk-container-id-2 div.sk-label label {font-family: monospace;font-weight: bold;display: inline-block;line-height: 1.2em;}#sk-container-id-2 div.sk-label-container {text-align: center;}#sk-container-id-2 div.sk-container {/* jupyter's `normalize.less` sets `[hidden] { display: none; }` but bootstrap.min.css set `[hidden] { display: none !important; }` so we also need the `!important` here to be able to override the default hidden behavior on the sphinx rendered scikit-learn.org. See: https://github.com/scikit-learn/scikit-learn/issues/21755 */display: inline-block !important;position: relative;}#sk-container-id-2 div.sk-text-repr-fallback {display: none;}</style><div id=\"sk-container-id-2\" class=\"sk-top-container\"><div class=\"sk-text-repr-fallback\"><pre>SGDClassifier(random_state=42)</pre><b>In a Jupyter environment, please rerun this cell to show the HTML representation or trust the notebook. <br />On GitHub, the HTML representation is unable to render, please try loading this page with nbviewer.org.</b></div><div class=\"sk-container\" hidden><div class=\"sk-item\"><div class=\"sk-estimator sk-toggleable\"><input class=\"sk-toggleable__control sk-hidden--visually\" id=\"sk-estimator-id-2\" type=\"checkbox\" checked><label for=\"sk-estimator-id-2\" class=\"sk-toggleable__label sk-toggleable__label-arrow\">SGDClassifier</label><div class=\"sk-toggleable__content\"><pre>SGDClassifier(random_state=42)</pre></div></div></div></div></div>"
            ]
          },
          "metadata": {},
          "execution_count": 32
        }
      ]
    },
    {
      "cell_type": "code",
      "source": [
        "y_preds = model.predict(x_test_pca)\n",
        "print(f\"Classification Report:\")\n",
        "print(classification_report(y_test, y_preds))"
      ],
      "metadata": {
        "colab": {
          "base_uri": "https://localhost:8080/"
        },
        "id": "yl2vP-S5p3WI",
        "outputId": "2f5a6d66-b3b9-48f5-d8d7-fe2805addc32"
      },
      "execution_count": null,
      "outputs": [
        {
          "output_type": "stream",
          "name": "stdout",
          "text": [
            "Classification Report:\n",
            "              precision    recall  f1-score   support\n",
            "\n",
            "           0       0.95      0.99      0.97       739\n",
            "           1       0.96      0.86      0.91       296\n",
            "\n",
            "    accuracy                           0.95      1035\n",
            "   macro avg       0.95      0.92      0.94      1035\n",
            "weighted avg       0.95      0.95      0.95      1035\n",
            "\n"
          ]
        }
      ]
    },
    {
      "cell_type": "code",
      "source": [
        "ConfusionMatrixDisplay.from_predictions(y_test, y_preds)"
      ],
      "metadata": {
        "id": "Q_6sYMOk7ozC",
        "outputId": "5d6754d5-4e44-453d-be30-6fbd3553c4e1",
        "colab": {
          "base_uri": "https://localhost:8080/",
          "height": 466
        }
      },
      "execution_count": null,
      "outputs": [
        {
          "output_type": "execute_result",
          "data": {
            "text/plain": [
              "<sklearn.metrics._plot.confusion_matrix.ConfusionMatrixDisplay at 0x7b1bebbd3dc0>"
            ]
          },
          "metadata": {},
          "execution_count": 34
        },
        {
          "output_type": "display_data",
          "data": {
            "text/plain": [
              "<Figure size 640x480 with 2 Axes>"
            ],
            "image/png": "[encoded data removed]"
          },
          "metadata": {}
        }
      ]
    },
    {
      "cell_type": "markdown",
      "source": [
        "I risultati, in generale, sono migliorati ma il numero di false positive è aumentato"
      ],
      "metadata": {
        "id": "IKFhflOITu-f"
      }
    },
    {
      "cell_type": "markdown",
      "source": [
        "## GridSearch and KFold"
      ],
      "metadata": {
        "id": "gqqcidxN2QxD"
      }
    },
    {
      "cell_type": "markdown",
      "source": [
        "Cercando di migliorare ancora i risultati, si effettua una Grid Search con Cross Validation, selezionando come parametri:\n",
        "- `pca__n_components`: numero di componenenti\n",
        "- `model__alpha`: coefficiente di regolarizzazione\n",
        "- `model__penalty`: tipo di regolarizzazione\n",
        "- `model__eta0`: learning rate\n",
        "\n",
        "Il train dataset è suddiviso in 5 fold, 1 fold alla voltà verrà usato come validation set e i restanti 4 come train dataset. Per ognuna di queste combinazioni (comprese le combinazioni dei parametri) si effettuerà il training per poi prelevare i parametri che hanno restituito un'accuracy migliore"
      ],
      "metadata": {
        "id": "JEDA_6_BT6cj"
      }
    },
    {
      "cell_type": "code",
      "source": [
        "sc = StandardScaler()\n",
        "pca = PCA(random_state=42)\n",
        "model = SGDClassifier(loss='log_loss', learning_rate='constant', random_state=42)\n",
        "\n",
        "steps = [\n",
        "    (\"scaler\", sc),\n",
        "    (\"pca\", pca),\n",
        "    (\"model\", model)\n",
        "]\n",
        "\n",
        "pipe = Pipeline(steps)\n",
        "\n",
        "folds = KFold(n_splits=5, shuffle=True, random_state=42)\n",
        "\n",
        "\n",
        "params = {\n",
        "    \"pca__n_components\": list(np.arange(300, 500, 50)),\n",
        "    \"model__alpha\": [0.1, 1, 10, 100], # lmd\n",
        "    \"model__penalty\": [\"l1\", \"l2\"],\n",
        "    \"model__eta0\": [1e-4, 1e-3, 1e-2, 1e-1] #lr\n",
        "}"
      ],
      "metadata": {
        "id": "xyp66xvz2Ute"
      },
      "execution_count": null,
      "outputs": []
    },
    {
      "cell_type": "code",
      "source": [
        "search = GridSearchCV(\n",
        "    estimator=pipe,\n",
        "    param_grid=params,\n",
        "    cv=folds,\n",
        "    scoring=\"accuracy\",\n",
        "    verbose=3,\n",
        "    return_train_score=True\n",
        "  )\n",
        "\n",
        "search.fit(x_train, y_train)"
      ],
      "metadata": {
        "colab": {
          "base_uri": "https://localhost:8080/",
          "height": 1000
        },
        "id": "O6hd3W8S5UGB",
        "outputId": "ab87e093-65ee-4bc0-a3bb-90b8d08041ff"
      },
      "execution_count": null,
      "outputs": [
        {
          "output_type": "stream",
          "name": "stdout",
          "text": [
            "Fitting 5 folds for each of 128 candidates, totalling 640 fits\n",
            "[CV 1/5] END model__alpha=0.1, model__eta0=0.0001, model__penalty=l1, pca__n_components=300;, score=(train=0.827, test=0.807) total time=   4.4s\n",
            "[CV 2/5] END model__alpha=0.1, model__eta0=0.0001, model__penalty=l1, pca__n_components=300;, score=(train=0.843, test=0.871) total time=   4.0s\n",
            "[CV 3/5] END model__alpha=0.1, model__eta0=0.0001, model__penalty=l1, pca__n_components=300;, score=(train=0.841, test=0.819) total time=   3.9s\n",
            "[CV 4/5] END model__alpha=0.1, model__eta0=0.0001, model__penalty=l1, pca__n_components=300;, score=(train=0.843, test=0.826) total time=   3.2s\n",
            "[CV 5/5] END model__alpha=0.1, model__eta0=0.0001, model__penalty=l1, pca__n_components=300;, score=(train=0.824, test=0.839) total time=   3.8s\n",
            "[CV 1/5] END model__alpha=0.1, model__eta0=0.0001, model__penalty=l1, pca__n_components=350;, score=(train=0.827, test=0.807) total time=   3.9s\n",
            "[CV 2/5] END model__alpha=0.1, model__eta0=0.0001, model__penalty=l1, pca__n_components=350;, score=(train=0.843, test=0.871) total time=   3.7s\n",
            "[CV 3/5] END model__alpha=0.1, model__eta0=0.0001, model__penalty=l1, pca__n_components=350;, score=(train=0.841, test=0.819) total time=   3.7s\n",
            "[CV 4/5] END model__alpha=0.1, model__eta0=0.0001, model__penalty=l1, pca__n_components=350;, score=(train=0.843, test=0.826) total time=   3.9s\n",
            "[CV 5/5] END model__alpha=0.1, model__eta0=0.0001, model__penalty=l1, pca__n_components=350;, score=(train=0.824, test=0.839) total time=   3.7s\n",
            "[CV 1/5] END model__alpha=0.1, model__eta0=0.0001, model__penalty=l1, pca__n_components=400;, score=(train=0.827, test=0.807) total time=   4.5s\n",
            "[CV 2/5] END model__alpha=0.1, model__eta0=0.0001, model__penalty=l1, pca__n_components=400;, score=(train=0.843, test=0.871) total time=   4.2s\n",
            "[CV 3/5] END model__alpha=0.1, model__eta0=0.0001, model__penalty=l1, pca__n_components=400;, score=(train=0.841, test=0.819) total time=   3.9s\n",
            "[CV 4/5] END model__alpha=0.1, model__eta0=0.0001, model__penalty=l1, pca__n_components=400;, score=(train=0.843, test=0.826) total time=   4.9s\n",
            "[CV 5/5] END model__alpha=0.1, model__eta0=0.0001, model__penalty=l1, pca__n_components=400;, score=(train=0.824, test=0.839) total time=   4.2s\n",
            "[CV 1/5] END model__alpha=0.1, model__eta0=0.0001, model__penalty=l1, pca__n_components=450;, score=(train=0.827, test=0.807) total time=   4.7s\n",
            "[CV 2/5] END model__alpha=0.1, model__eta0=0.0001, model__penalty=l1, pca__n_components=450;, score=(train=0.843, test=0.871) total time=   5.4s\n",
            "[CV 3/5] END model__alpha=0.1, model__eta0=0.0001, model__penalty=l1, pca__n_components=450;, score=(train=0.841, test=0.819) total time=   4.3s\n",
            "[CV 4/5] END model__alpha=0.1, model__eta0=0.0001, model__penalty=l1, pca__n_components=450;, score=(train=0.843, test=0.826) total time=   5.5s\n",
            "[CV 5/5] END model__alpha=0.1, model__eta0=0.0001, model__penalty=l1, pca__n_components=450;, score=(train=0.824, test=0.839) total time=   4.5s\n",
            "[CV 1/5] END model__alpha=0.1, model__eta0=0.0001, model__penalty=l2, pca__n_components=300;, score=(train=0.956, test=0.935) total time=   2.8s\n",
            "[CV 2/5] END model__alpha=0.1, model__eta0=0.0001, model__penalty=l2, pca__n_components=300;, score=(train=0.953, test=0.950) total time=   4.0s\n",
            "[CV 3/5] END model__alpha=0.1, model__eta0=0.0001, model__penalty=l2, pca__n_components=300;, score=(train=0.953, test=0.929) total time=   2.8s\n",
            "[CV 4/5] END model__alpha=0.1, model__eta0=0.0001, model__penalty=l2, pca__n_components=300;, score=(train=0.954, test=0.946) total time=   2.7s\n",
            "[CV 5/5] END model__alpha=0.1, model__eta0=0.0001, model__penalty=l2, pca__n_components=300;, score=(train=0.959, test=0.946) total time=   2.9s\n",
            "[CV 1/5] END model__alpha=0.1, model__eta0=0.0001, model__penalty=l2, pca__n_components=350;, score=(train=0.959, test=0.938) total time=   3.9s\n",
            "[CV 2/5] END model__alpha=0.1, model__eta0=0.0001, model__penalty=l2, pca__n_components=350;, score=(train=0.957, test=0.952) total time=   3.0s\n",
            "[CV 3/5] END model__alpha=0.1, model__eta0=0.0001, model__penalty=l2, pca__n_components=350;, score=(train=0.959, test=0.930) total time=   3.0s\n",
            "[CV 4/5] END model__alpha=0.1, model__eta0=0.0001, model__penalty=l2, pca__n_components=350;, score=(train=0.958, test=0.946) total time=   3.1s\n",
            "[CV 5/5] END model__alpha=0.1, model__eta0=0.0001, model__penalty=l2, pca__n_components=350;, score=(train=0.961, test=0.947) total time=   3.7s\n",
            "[CV 1/5] END model__alpha=0.1, model__eta0=0.0001, model__penalty=l2, pca__n_components=400;, score=(train=0.960, test=0.941) total time=   3.4s\n",
            "[CV 2/5] END model__alpha=0.1, model__eta0=0.0001, model__penalty=l2, pca__n_components=400;, score=(train=0.959, test=0.954) total time=   3.5s\n",
            "[CV 3/5] END model__alpha=0.1, model__eta0=0.0001, model__penalty=l2, pca__n_components=400;, score=(train=0.960, test=0.923) total time=   4.3s\n",
            "[CV 4/5] END model__alpha=0.1, model__eta0=0.0001, model__penalty=l2, pca__n_components=400;, score=(train=0.960, test=0.946) total time=   3.5s\n",
            "[CV 5/5] END model__alpha=0.1, model__eta0=0.0001, model__penalty=l2, pca__n_components=400;, score=(train=0.961, test=0.942) total time=   3.4s\n",
            "[CV 1/5] END model__alpha=0.1, model__eta0=0.0001, model__penalty=l2, pca__n_components=450;, score=(train=0.961, test=0.943) total time=   4.7s\n",
            "[CV 2/5] END model__alpha=0.1, model__eta0=0.0001, model__penalty=l2, pca__n_components=450;, score=(train=0.960, test=0.952) total time=   3.8s\n",
            "[CV 3/5] END model__alpha=0.1, model__eta0=0.0001, model__penalty=l2, pca__n_components=450;, score=(train=0.963, test=0.924) total time=   3.8s\n",
            "[CV 4/5] END model__alpha=0.1, model__eta0=0.0001, model__penalty=l2, pca__n_components=450;, score=(train=0.960, test=0.946) total time=   4.9s\n",
            "[CV 5/5] END model__alpha=0.1, model__eta0=0.0001, model__penalty=l2, pca__n_components=450;, score=(train=0.962, test=0.942) total time=   3.8s\n",
            "[CV 1/5] END model__alpha=0.1, model__eta0=0.001, model__penalty=l1, pca__n_components=300;, score=(train=0.826, test=0.803) total time=   4.4s\n",
            "[CV 2/5] END model__alpha=0.1, model__eta0=0.001, model__penalty=l1, pca__n_components=300;, score=(train=0.830, test=0.871) total time=   3.7s\n",
            "[CV 3/5] END model__alpha=0.1, model__eta0=0.001, model__penalty=l1, pca__n_components=300;, score=(train=0.822, test=0.791) total time=   2.9s\n",
            "[CV 4/5] END model__alpha=0.1, model__eta0=0.001, model__penalty=l1, pca__n_components=300;, score=(train=0.822, test=0.811) total time=   2.9s\n",
            "[CV 5/5] END model__alpha=0.1, model__eta0=0.001, model__penalty=l1, pca__n_components=300;, score=(train=0.827, test=0.828) total time=   3.0s\n",
            "[CV 1/5] END model__alpha=0.1, model__eta0=0.001, model__penalty=l1, pca__n_components=350;, score=(train=0.826, test=0.803) total time=   3.8s\n",
            "[CV 2/5] END model__alpha=0.1, model__eta0=0.001, model__penalty=l1, pca__n_components=350;, score=(train=0.830, test=0.871) total time=   3.2s\n",
            "[CV 3/5] END model__alpha=0.1, model__eta0=0.001, model__penalty=l1, pca__n_components=350;, score=(train=0.822, test=0.791) total time=   3.2s\n",
            "[CV 4/5] END model__alpha=0.1, model__eta0=0.001, model__penalty=l1, pca__n_components=350;, score=(train=0.822, test=0.811) total time=   4.4s\n",
            "[CV 5/5] END model__alpha=0.1, model__eta0=0.001, model__penalty=l1, pca__n_components=350;, score=(train=0.827, test=0.828) total time=   3.3s\n",
            "[CV 1/5] END model__alpha=0.1, model__eta0=0.001, model__penalty=l1, pca__n_components=400;, score=(train=0.826, test=0.803) total time=   3.6s\n",
            "[CV 2/5] END model__alpha=0.1, model__eta0=0.001, model__penalty=l1, pca__n_components=400;, score=(train=0.830, test=0.871) total time=   4.5s\n",
            "[CV 3/5] END model__alpha=0.1, model__eta0=0.001, model__penalty=l1, pca__n_components=400;, score=(train=0.822, test=0.791) total time=   5.2s\n",
            "[CV 4/5] END model__alpha=0.1, model__eta0=0.001, model__penalty=l1, pca__n_components=400;, score=(train=0.822, test=0.811) total time=   6.5s\n",
            "[CV 5/5] END model__alpha=0.1, model__eta0=0.001, model__penalty=l1, pca__n_components=400;, score=(train=0.827, test=0.828) total time=   3.7s\n",
            "[CV 1/5] END model__alpha=0.1, model__eta0=0.001, model__penalty=l1, pca__n_components=450;, score=(train=0.826, test=0.803) total time=   4.0s\n",
            "[CV 2/5] END model__alpha=0.1, model__eta0=0.001, model__penalty=l1, pca__n_components=450;, score=(train=0.830, test=0.871) total time=   4.9s\n",
            "[CV 3/5] END model__alpha=0.1, model__eta0=0.001, model__penalty=l1, pca__n_components=450;, score=(train=0.822, test=0.791) total time=   3.9s\n",
            "[CV 4/5] END model__alpha=0.1, model__eta0=0.001, model__penalty=l1, pca__n_components=450;, score=(train=0.822, test=0.811) total time=   4.0s\n",
            "[CV 5/5] END model__alpha=0.1, model__eta0=0.001, model__penalty=l1, pca__n_components=450;, score=(train=0.827, test=0.828) total time=   4.8s\n",
            "[CV 1/5] END model__alpha=0.1, model__eta0=0.001, model__penalty=l2, pca__n_components=300;, score=(train=0.957, test=0.944) total time=   2.7s\n",
            "[CV 2/5] END model__alpha=0.1, model__eta0=0.001, model__penalty=l2, pca__n_components=300;, score=(train=0.969, test=0.970) total time=   2.7s\n",
            "[CV 3/5] END model__alpha=0.1, model__eta0=0.001, model__penalty=l2, pca__n_components=300;, score=(train=0.955, test=0.929) total time=   2.9s\n",
            "[CV 4/5] END model__alpha=0.1, model__eta0=0.001, model__penalty=l2, pca__n_components=300;, score=(train=0.958, test=0.958) total time=   3.3s\n",
            "[CV 5/5] END model__alpha=0.1, model__eta0=0.001, model__penalty=l2, pca__n_components=300;, score=(train=0.962, test=0.943) total time=   2.8s\n",
            "[CV 1/5] END model__alpha=0.1, model__eta0=0.001, model__penalty=l2, pca__n_components=350;, score=(train=0.960, test=0.946) total time=   2.9s\n",
            "[CV 2/5] END model__alpha=0.1, model__eta0=0.001, model__penalty=l2, pca__n_components=350;, score=(train=0.970, test=0.969) total time=   3.6s\n",
            "[CV 3/5] END model__alpha=0.1, model__eta0=0.001, model__penalty=l2, pca__n_components=350;, score=(train=0.960, test=0.943) total time=   3.3s\n",
            "[CV 4/5] END model__alpha=0.1, model__eta0=0.001, model__penalty=l2, pca__n_components=350;, score=(train=0.962, test=0.952) total time=   3.0s\n",
            "[CV 5/5] END model__alpha=0.1, model__eta0=0.001, model__penalty=l2, pca__n_components=350;, score=(train=0.960, test=0.947) total time=   3.0s\n",
            "[CV 1/5] END model__alpha=0.1, model__eta0=0.001, model__penalty=l2, pca__n_components=400;, score=(train=0.966, test=0.957) total time=   4.3s\n",
            "[CV 2/5] END model__alpha=0.1, model__eta0=0.001, model__penalty=l2, pca__n_components=400;, score=(train=0.970, test=0.963) total time=   3.4s\n",
            "[CV 3/5] END model__alpha=0.1, model__eta0=0.001, model__penalty=l2, pca__n_components=400;, score=(train=0.962, test=0.940) total time=   3.4s\n",
            "[CV 4/5] END model__alpha=0.1, model__eta0=0.001, model__penalty=l2, pca__n_components=400;, score=(train=0.974, test=0.965) total time=   4.4s\n",
            "[CV 5/5] END model__alpha=0.1, model__eta0=0.001, model__penalty=l2, pca__n_components=400;, score=(train=0.963, test=0.948) total time=   3.4s\n",
            "[CV 1/5] END model__alpha=0.1, model__eta0=0.001, model__penalty=l2, pca__n_components=450;, score=(train=0.965, test=0.954) total time=   3.8s\n",
            "[CV 2/5] END model__alpha=0.1, model__eta0=0.001, model__penalty=l2, pca__n_components=450;, score=(train=0.970, test=0.964) total time=   4.4s\n",
            "[CV 3/5] END model__alpha=0.1, model__eta0=0.001, model__penalty=l2, pca__n_components=450;, score=(train=0.962, test=0.940) total time=   3.7s\n",
            "[CV 4/5] END model__alpha=0.1, model__eta0=0.001, model__penalty=l2, pca__n_components=450;, score=(train=0.970, test=0.964) total time=   3.7s\n",
            "[CV 5/5] END model__alpha=0.1, model__eta0=0.001, model__penalty=l2, pca__n_components=450;, score=(train=0.964, test=0.952) total time=   4.4s\n",
            "[CV 1/5] END model__alpha=0.1, model__eta0=0.01, model__penalty=l1, pca__n_components=300;, score=(train=0.824, test=0.813) total time=   3.3s\n",
            "[CV 2/5] END model__alpha=0.1, model__eta0=0.01, model__penalty=l1, pca__n_components=300;, score=(train=0.835, test=0.874) total time=   2.7s\n",
            "[CV 3/5] END model__alpha=0.1, model__eta0=0.01, model__penalty=l1, pca__n_components=300;, score=(train=0.831, test=0.820) total time=   2.8s\n",
            "[CV 4/5] END model__alpha=0.1, model__eta0=0.01, model__penalty=l1, pca__n_components=300;, score=(train=0.862, test=0.849) total time=   3.6s\n",
            "[CV 5/5] END model__alpha=0.1, model__eta0=0.01, model__penalty=l1, pca__n_components=300;, score=(train=0.818, test=0.827) total time=   2.8s\n",
            "[CV 1/5] END model__alpha=0.1, model__eta0=0.01, model__penalty=l1, pca__n_components=350;, score=(train=0.834, test=0.829) total time=   3.0s\n",
            "[CV 2/5] END model__alpha=0.1, model__eta0=0.01, model__penalty=l1, pca__n_components=350;, score=(train=0.849, test=0.876) total time=   3.0s\n",
            "[CV 3/5] END model__alpha=0.1, model__eta0=0.01, model__penalty=l1, pca__n_components=350;, score=(train=0.815, test=0.793) total time=   3.9s\n",
            "[CV 4/5] END model__alpha=0.1, model__eta0=0.01, model__penalty=l1, pca__n_components=350;, score=(train=0.862, test=0.849) total time=   4.8s\n",
            "[CV 5/5] END model__alpha=0.1, model__eta0=0.01, model__penalty=l1, pca__n_components=350;, score=(train=0.818, test=0.827) total time=   3.0s\n",
            "[CV 1/5] END model__alpha=0.1, model__eta0=0.01, model__penalty=l1, pca__n_components=400;, score=(train=0.835, test=0.835) total time=   4.3s\n",
            "[CV 2/5] END model__alpha=0.1, model__eta0=0.01, model__penalty=l1, pca__n_components=400;, score=(train=0.862, test=0.884) total time=   3.6s\n",
            "[CV 3/5] END model__alpha=0.1, model__eta0=0.01, model__penalty=l1, pca__n_components=400;, score=(train=0.914, test=0.890) total time=   3.5s\n",
            "[CV 4/5] END model__alpha=0.1, model__eta0=0.01, model__penalty=l1, pca__n_components=400;, score=(train=0.862, test=0.848) total time=   5.3s\n",
            "[CV 5/5] END model__alpha=0.1, model__eta0=0.01, model__penalty=l1, pca__n_components=400;, score=(train=0.818, test=0.827) total time=   4.1s\n",
            "[CV 1/5] END model__alpha=0.1, model__eta0=0.01, model__penalty=l1, pca__n_components=450;, score=(train=0.824, test=0.821) total time=   4.2s\n",
            "[CV 2/5] END model__alpha=0.1, model__eta0=0.01, model__penalty=l1, pca__n_components=450;, score=(train=0.862, test=0.884) total time=   4.2s\n",
            "[CV 3/5] END model__alpha=0.1, model__eta0=0.01, model__penalty=l1, pca__n_components=450;, score=(train=0.826, test=0.804) total time=   4.0s\n",
            "[CV 4/5] END model__alpha=0.1, model__eta0=0.01, model__penalty=l1, pca__n_components=450;, score=(train=0.862, test=0.848) total time=   4.6s\n",
            "[CV 5/5] END model__alpha=0.1, model__eta0=0.01, model__penalty=l1, pca__n_components=450;, score=(train=0.818, test=0.827) total time=   3.9s\n",
            "[CV 1/5] END model__alpha=0.1, model__eta0=0.01, model__penalty=l2, pca__n_components=300;, score=(train=0.901, test=0.909) total time=   2.7s\n",
            "[CV 2/5] END model__alpha=0.1, model__eta0=0.01, model__penalty=l2, pca__n_components=300;, score=(train=0.936, test=0.925) total time=   2.7s\n",
            "[CV 3/5] END model__alpha=0.1, model__eta0=0.01, model__penalty=l2, pca__n_components=300;, score=(train=0.931, test=0.919) total time=   3.6s\n",
            "[CV 4/5] END model__alpha=0.1, model__eta0=0.01, model__penalty=l2, pca__n_components=300;, score=(train=0.951, test=0.953) total time=   2.8s\n",
            "[CV 5/5] END model__alpha=0.1, model__eta0=0.01, model__penalty=l2, pca__n_components=300;, score=(train=0.905, test=0.889) total time=   2.8s\n",
            "[CV 1/5] END model__alpha=0.1, model__eta0=0.01, model__penalty=l2, pca__n_components=350;, score=(train=0.911, test=0.907) total time=   3.0s\n",
            "[CV 2/5] END model__alpha=0.1, model__eta0=0.01, model__penalty=l2, pca__n_components=350;, score=(train=0.866, test=0.888) total time=   3.7s\n",
            "[CV 3/5] END model__alpha=0.1, model__eta0=0.01, model__penalty=l2, pca__n_components=350;, score=(train=0.927, test=0.914) total time=   2.9s\n",
            "[CV 4/5] END model__alpha=0.1, model__eta0=0.01, model__penalty=l2, pca__n_components=350;, score=(train=0.902, test=0.888) total time=   3.0s\n",
            "[CV 5/5] END model__alpha=0.1, model__eta0=0.01, model__penalty=l2, pca__n_components=350;, score=(train=0.886, test=0.880) total time=   3.3s\n",
            "[CV 1/5] END model__alpha=0.1, model__eta0=0.01, model__penalty=l2, pca__n_components=400;, score=(train=0.892, test=0.880) total time=   3.8s\n",
            "[CV 2/5] END model__alpha=0.1, model__eta0=0.01, model__penalty=l2, pca__n_components=400;, score=(train=0.946, test=0.946) total time=   3.4s\n",
            "[CV 3/5] END model__alpha=0.1, model__eta0=0.01, model__penalty=l2, pca__n_components=400;, score=(train=0.946, test=0.932) total time=   3.3s\n",
            "[CV 4/5] END model__alpha=0.1, model__eta0=0.01, model__penalty=l2, pca__n_components=400;, score=(train=0.961, test=0.954) total time=   4.2s\n",
            "[CV 5/5] END model__alpha=0.1, model__eta0=0.01, model__penalty=l2, pca__n_components=400;, score=(train=0.883, test=0.881) total time=   3.3s\n",
            "[CV 1/5] END model__alpha=0.1, model__eta0=0.01, model__penalty=l2, pca__n_components=450;, score=(train=0.915, test=0.915) total time=   3.7s\n",
            "[CV 2/5] END model__alpha=0.1, model__eta0=0.01, model__penalty=l2, pca__n_components=450;, score=(train=0.932, test=0.929) total time=   4.6s\n",
            "[CV 3/5] END model__alpha=0.1, model__eta0=0.01, model__penalty=l2, pca__n_components=450;, score=(train=0.914, test=0.909) total time=   3.7s\n",
            "[CV 4/5] END model__alpha=0.1, model__eta0=0.01, model__penalty=l2, pca__n_components=450;, score=(train=0.943, test=0.927) total time=   3.6s\n",
            "[CV 5/5] END model__alpha=0.1, model__eta0=0.01, model__penalty=l2, pca__n_components=450;, score=(train=0.916, test=0.904) total time=   4.6s\n",
            "[CV 1/5] END model__alpha=0.1, model__eta0=0.1, model__penalty=l1, pca__n_components=300;, score=(train=0.784, test=0.789) total time=   2.7s\n",
            "[CV 2/5] END model__alpha=0.1, model__eta0=0.1, model__penalty=l1, pca__n_components=300;, score=(train=0.820, test=0.835) total time=   2.8s\n",
            "[CV 3/5] END model__alpha=0.1, model__eta0=0.1, model__penalty=l1, pca__n_components=300;, score=(train=0.847, test=0.814) total time=   2.8s\n",
            "[CV 4/5] END model__alpha=0.1, model__eta0=0.1, model__penalty=l1, pca__n_components=300;, score=(train=0.816, test=0.810) total time=   3.7s\n",
            "[CV 5/5] END model__alpha=0.1, model__eta0=0.1, model__penalty=l1, pca__n_components=300;, score=(train=0.795, test=0.780) total time=   2.8s\n",
            "[CV 1/5] END model__alpha=0.1, model__eta0=0.1, model__penalty=l1, pca__n_components=350;, score=(train=0.574, test=0.611) total time=   3.0s\n",
            "[CV 2/5] END model__alpha=0.1, model__eta0=0.1, model__penalty=l1, pca__n_components=350;, score=(train=0.910, test=0.906) total time=   3.3s\n",
            "[CV 3/5] END model__alpha=0.1, model__eta0=0.1, model__penalty=l1, pca__n_components=350;, score=(train=0.796, test=0.774) total time=   3.7s\n",
            "[CV 4/5] END model__alpha=0.1, model__eta0=0.1, model__penalty=l1, pca__n_components=350;, score=(train=0.809, test=0.803) total time=   3.2s\n",
            "[CV 5/5] END model__alpha=0.1, model__eta0=0.1, model__penalty=l1, pca__n_components=350;, score=(train=0.916, test=0.908) total time=   3.1s\n",
            "[CV 1/5] END model__alpha=0.1, model__eta0=0.1, model__penalty=l1, pca__n_components=400;, score=(train=0.816, test=0.801) total time=   4.3s\n",
            "[CV 2/5] END model__alpha=0.1, model__eta0=0.1, model__penalty=l1, pca__n_components=400;, score=(train=0.851, test=0.872) total time=   3.6s\n",
            "[CV 3/5] END model__alpha=0.1, model__eta0=0.1, model__penalty=l1, pca__n_components=400;, score=(train=0.569, test=0.577) total time=   3.5s\n",
            "[CV 4/5] END model__alpha=0.1, model__eta0=0.1, model__penalty=l1, pca__n_components=400;, score=(train=0.753, test=0.746) total time=   4.3s\n",
            "[CV 5/5] END model__alpha=0.1, model__eta0=0.1, model__penalty=l1, pca__n_components=400;, score=(train=0.816, test=0.807) total time=   3.4s\n",
            "[CV 1/5] END model__alpha=0.1, model__eta0=0.1, model__penalty=l1, pca__n_components=450;, score=(train=0.813, test=0.815) total time=   3.8s\n",
            "[CV 2/5] END model__alpha=0.1, model__eta0=0.1, model__penalty=l1, pca__n_components=450;, score=(train=0.824, test=0.839) total time=   4.7s\n",
            "[CV 3/5] END model__alpha=0.1, model__eta0=0.1, model__penalty=l1, pca__n_components=450;, score=(train=0.842, test=0.811) total time=   4.0s\n",
            "[CV 4/5] END model__alpha=0.1, model__eta0=0.1, model__penalty=l1, pca__n_components=450;, score=(train=0.811, test=0.810) total time=   3.9s\n",
            "[CV 5/5] END model__alpha=0.1, model__eta0=0.1, model__penalty=l1, pca__n_components=450;, score=(train=0.608, test=0.603) total time=   4.8s\n",
            "[CV 1/5] END model__alpha=0.1, model__eta0=0.1, model__penalty=l2, pca__n_components=300;, score=(train=0.780, test=0.771) total time=   2.7s\n",
            "[CV 2/5] END model__alpha=0.1, model__eta0=0.1, model__penalty=l2, pca__n_components=300;, score=(train=0.820, test=0.856) total time=   2.7s\n",
            "[CV 3/5] END model__alpha=0.1, model__eta0=0.1, model__penalty=l2, pca__n_components=300;, score=(train=0.836, test=0.826) total time=   2.8s\n",
            "[CV 4/5] END model__alpha=0.1, model__eta0=0.1, model__penalty=l2, pca__n_components=300;, score=(train=0.815, test=0.807) total time=   3.6s\n",
            "[CV 5/5] END model__alpha=0.1, model__eta0=0.1, model__penalty=l2, pca__n_components=300;, score=(train=0.857, test=0.852) total time=   2.6s\n",
            "[CV 1/5] END model__alpha=0.1, model__eta0=0.1, model__penalty=l2, pca__n_components=350;, score=(train=0.833, test=0.848) total time=   3.0s\n",
            "[CV 2/5] END model__alpha=0.1, model__eta0=0.1, model__penalty=l2, pca__n_components=350;, score=(train=0.857, test=0.851) total time=   3.0s\n",
            "[CV 3/5] END model__alpha=0.1, model__eta0=0.1, model__penalty=l2, pca__n_components=350;, score=(train=0.850, test=0.845) total time=   3.6s\n",
            "[CV 4/5] END model__alpha=0.1, model__eta0=0.1, model__penalty=l2, pca__n_components=350;, score=(train=0.487, test=0.470) total time=   3.0s\n",
            "[CV 5/5] END model__alpha=0.1, model__eta0=0.1, model__penalty=l2, pca__n_components=350;, score=(train=0.727, test=0.726) total time=   2.8s\n",
            "[CV 1/5] END model__alpha=0.1, model__eta0=0.1, model__penalty=l2, pca__n_components=400;, score=(train=0.840, test=0.850) total time=   3.8s\n",
            "[CV 2/5] END model__alpha=0.1, model__eta0=0.1, model__penalty=l2, pca__n_components=400;, score=(train=0.798, test=0.790) total time=   3.6s\n",
            "[CV 3/5] END model__alpha=0.1, model__eta0=0.1, model__penalty=l2, pca__n_components=400;, score=(train=0.864, test=0.862) total time=   3.3s\n",
            "[CV 4/5] END model__alpha=0.1, model__eta0=0.1, model__penalty=l2, pca__n_components=400;, score=(train=0.845, test=0.845) total time=   3.4s\n",
            "[CV 5/5] END model__alpha=0.1, model__eta0=0.1, model__penalty=l2, pca__n_components=400;, score=(train=0.795, test=0.771) total time=   4.0s\n",
            "[CV 1/5] END model__alpha=0.1, model__eta0=0.1, model__penalty=l2, pca__n_components=450;, score=(train=0.830, test=0.838) total time=   3.8s\n",
            "[CV 2/5] END model__alpha=0.1, model__eta0=0.1, model__penalty=l2, pca__n_components=450;, score=(train=0.838, test=0.839) total time=   3.7s\n",
            "[CV 3/5] END model__alpha=0.1, model__eta0=0.1, model__penalty=l2, pca__n_components=450;, score=(train=0.867, test=0.867) total time=   4.6s\n",
            "[CV 4/5] END model__alpha=0.1, model__eta0=0.1, model__penalty=l2, pca__n_components=450;, score=(train=0.846, test=0.843) total time=   3.7s\n",
            "[CV 5/5] END model__alpha=0.1, model__eta0=0.1, model__penalty=l2, pca__n_components=450;, score=(train=0.799, test=0.820) total time=   3.7s\n",
            "[CV 1/5] END model__alpha=1, model__eta0=0.0001, model__penalty=l1, pca__n_components=300;, score=(train=0.712, test=0.696) total time=   3.8s\n",
            "[CV 2/5] END model__alpha=1, model__eta0=0.0001, model__penalty=l1, pca__n_components=300;, score=(train=0.701, test=0.742) total time=   2.9s\n",
            "[CV 3/5] END model__alpha=1, model__eta0=0.0001, model__penalty=l1, pca__n_components=300;, score=(train=0.710, test=0.706) total time=   3.0s\n",
            "[CV 4/5] END model__alpha=1, model__eta0=0.0001, model__penalty=l1, pca__n_components=300;, score=(train=0.711, test=0.699) total time=   3.1s\n",
            "[CV 5/5] END model__alpha=1, model__eta0=0.0001, model__penalty=l1, pca__n_components=300;, score=(train=0.711, test=0.703) total time=   3.5s\n",
            "[CV 1/5] END model__alpha=1, model__eta0=0.0001, model__penalty=l1, pca__n_components=350;, score=(train=0.712, test=0.696) total time=   3.3s\n",
            "[CV 2/5] END model__alpha=1, model__eta0=0.0001, model__penalty=l1, pca__n_components=350;, score=(train=0.701, test=0.742) total time=   3.3s\n",
            "[CV 3/5] END model__alpha=1, model__eta0=0.0001, model__penalty=l1, pca__n_components=350;, score=(train=0.710, test=0.706) total time=   4.1s\n",
            "[CV 4/5] END model__alpha=1, model__eta0=0.0001, model__penalty=l1, pca__n_components=350;, score=(train=0.711, test=0.699) total time=   3.3s\n",
            "[CV 5/5] END model__alpha=1, model__eta0=0.0001, model__penalty=l1, pca__n_components=350;, score=(train=0.711, test=0.703) total time=   3.3s\n",
            "[CV 1/5] END model__alpha=1, model__eta0=0.0001, model__penalty=l1, pca__n_components=400;, score=(train=0.712, test=0.696) total time=   4.5s\n",
            "[CV 2/5] END model__alpha=1, model__eta0=0.0001, model__penalty=l1, pca__n_components=400;, score=(train=0.701, test=0.742) total time=   3.7s\n",
            "[CV 3/5] END model__alpha=1, model__eta0=0.0001, model__penalty=l1, pca__n_components=400;, score=(train=0.710, test=0.706) total time=   3.7s\n",
            "[CV 4/5] END model__alpha=1, model__eta0=0.0001, model__penalty=l1, pca__n_components=400;, score=(train=0.711, test=0.699) total time=   4.2s\n",
            "[CV 5/5] END model__alpha=1, model__eta0=0.0001, model__penalty=l1, pca__n_components=400;, score=(train=0.711, test=0.703) total time=   3.6s\n",
            "[CV 1/5] END model__alpha=1, model__eta0=0.0001, model__penalty=l1, pca__n_components=450;, score=(train=0.712, test=0.696) total time=   4.0s\n",
            "[CV 2/5] END model__alpha=1, model__eta0=0.0001, model__penalty=l1, pca__n_components=450;, score=(train=0.701, test=0.742) total time=   5.0s\n",
            "[CV 3/5] END model__alpha=1, model__eta0=0.0001, model__penalty=l1, pca__n_components=450;, score=(train=0.710, test=0.706) total time=   3.9s\n",
            "[CV 4/5] END model__alpha=1, model__eta0=0.0001, model__penalty=l1, pca__n_components=450;, score=(train=0.711, test=0.699) total time=   4.1s\n",
            "[CV 5/5] END model__alpha=1, model__eta0=0.0001, model__penalty=l1, pca__n_components=450;, score=(train=0.711, test=0.703) total time=   5.0s\n",
            "[CV 1/5] END model__alpha=1, model__eta0=0.0001, model__penalty=l2, pca__n_components=300;, score=(train=0.895, test=0.872) total time=   2.7s\n",
            "[CV 2/5] END model__alpha=1, model__eta0=0.0001, model__penalty=l2, pca__n_components=300;, score=(train=0.893, test=0.903) total time=   2.8s\n",
            "[CV 3/5] END model__alpha=1, model__eta0=0.0001, model__penalty=l2, pca__n_components=300;, score=(train=0.892, test=0.866) total time=   3.1s\n",
            "[CV 4/5] END model__alpha=1, model__eta0=0.0001, model__penalty=l2, pca__n_components=300;, score=(train=0.887, test=0.879) total time=   3.2s\n",
            "[CV 5/5] END model__alpha=1, model__eta0=0.0001, model__penalty=l2, pca__n_components=300;, score=(train=0.892, test=0.881) total time=   2.8s\n",
            "[CV 1/5] END model__alpha=1, model__eta0=0.0001, model__penalty=l2, pca__n_components=350;, score=(train=0.896, test=0.877) total time=   3.1s\n",
            "[CV 2/5] END model__alpha=1, model__eta0=0.0001, model__penalty=l2, pca__n_components=350;, score=(train=0.896, test=0.906) total time=   3.8s\n",
            "[CV 3/5] END model__alpha=1, model__eta0=0.0001, model__penalty=l2, pca__n_components=350;, score=(train=0.895, test=0.871) total time=   3.1s\n",
            "[CV 4/5] END model__alpha=1, model__eta0=0.0001, model__penalty=l2, pca__n_components=350;, score=(train=0.892, test=0.886) total time=   3.0s\n",
            "[CV 5/5] END model__alpha=1, model__eta0=0.0001, model__penalty=l2, pca__n_components=350;, score=(train=0.893, test=0.883) total time=   3.1s\n",
            "[CV 1/5] END model__alpha=1, model__eta0=0.0001, model__penalty=l2, pca__n_components=400;, score=(train=0.898, test=0.877) total time=   4.4s\n",
            "[CV 2/5] END model__alpha=1, model__eta0=0.0001, model__penalty=l2, pca__n_components=400;, score=(train=0.897, test=0.908) total time=   3.4s\n",
            "[CV 3/5] END model__alpha=1, model__eta0=0.0001, model__penalty=l2, pca__n_components=400;, score=(train=0.896, test=0.868) total time=   3.4s\n",
            "[CV 4/5] END model__alpha=1, model__eta0=0.0001, model__penalty=l2, pca__n_components=400;, score=(train=0.893, test=0.875) total time=   4.5s\n",
            "[CV 5/5] END model__alpha=1, model__eta0=0.0001, model__penalty=l2, pca__n_components=400;, score=(train=0.896, test=0.885) total time=   3.4s\n",
            "[CV 1/5] END model__alpha=1, model__eta0=0.0001, model__penalty=l2, pca__n_components=450;, score=(train=0.901, test=0.879) total time=   3.8s\n",
            "[CV 2/5] END model__alpha=1, model__eta0=0.0001, model__penalty=l2, pca__n_components=450;, score=(train=0.899, test=0.906) total time=   4.8s\n",
            "[CV 3/5] END model__alpha=1, model__eta0=0.0001, model__penalty=l2, pca__n_components=450;, score=(train=0.899, test=0.877) total time=   3.9s\n",
            "[CV 4/5] END model__alpha=1, model__eta0=0.0001, model__penalty=l2, pca__n_components=450;, score=(train=0.897, test=0.885) total time=   3.8s\n",
            "[CV 5/5] END model__alpha=1, model__eta0=0.0001, model__penalty=l2, pca__n_components=450;, score=(train=0.897, test=0.886) total time=   4.6s\n",
            "[CV 1/5] END model__alpha=1, model__eta0=0.001, model__penalty=l1, pca__n_components=300;, score=(train=0.712, test=0.696) total time=   2.8s\n",
            "[CV 2/5] END model__alpha=1, model__eta0=0.001, model__penalty=l1, pca__n_components=300;, score=(train=0.701, test=0.742) total time=   2.8s\n",
            "[CV 3/5] END model__alpha=1, model__eta0=0.001, model__penalty=l1, pca__n_components=300;, score=(train=0.710, test=0.706) total time=   3.0s\n",
            "[CV 4/5] END model__alpha=1, model__eta0=0.001, model__penalty=l1, pca__n_components=300;, score=(train=0.711, test=0.699) total time=   3.4s\n",
            "[CV 5/5] END model__alpha=1, model__eta0=0.001, model__penalty=l1, pca__n_components=300;, score=(train=0.711, test=0.703) total time=   2.9s\n",
            "[CV 1/5] END model__alpha=1, model__eta0=0.001, model__penalty=l1, pca__n_components=350;, score=(train=0.712, test=0.696) total time=   3.1s\n",
            "[CV 2/5] END model__alpha=1, model__eta0=0.001, model__penalty=l1, pca__n_components=350;, score=(train=0.701, test=0.742) total time=   3.6s\n",
            "[CV 3/5] END model__alpha=1, model__eta0=0.001, model__penalty=l1, pca__n_components=350;, score=(train=0.710, test=0.706) total time=   3.3s\n",
            "[CV 4/5] END model__alpha=1, model__eta0=0.001, model__penalty=l1, pca__n_components=350;, score=(train=0.711, test=0.699) total time=   3.1s\n",
            "[CV 5/5] END model__alpha=1, model__eta0=0.001, model__penalty=l1, pca__n_components=350;, score=(train=0.711, test=0.703) total time=   3.0s\n",
            "[CV 1/5] END model__alpha=1, model__eta0=0.001, model__penalty=l1, pca__n_components=400;, score=(train=0.712, test=0.696) total time=   4.5s\n",
            "[CV 2/5] END model__alpha=1, model__eta0=0.001, model__penalty=l1, pca__n_components=400;, score=(train=0.701, test=0.742) total time=   3.4s\n",
            "[CV 3/5] END model__alpha=1, model__eta0=0.001, model__penalty=l1, pca__n_components=400;, score=(train=0.710, test=0.706) total time=   3.5s\n",
            "[CV 4/5] END model__alpha=1, model__eta0=0.001, model__penalty=l1, pca__n_components=400;, score=(train=0.711, test=0.699) total time=   4.5s\n",
            "[CV 5/5] END model__alpha=1, model__eta0=0.001, model__penalty=l1, pca__n_components=400;, score=(train=0.711, test=0.703) total time=   3.4s\n",
            "[CV 1/5] END model__alpha=1, model__eta0=0.001, model__penalty=l1, pca__n_components=450;, score=(train=0.712, test=0.696) total time=   3.8s\n",
            "[CV 2/5] END model__alpha=1, model__eta0=0.001, model__penalty=l1, pca__n_components=450;, score=(train=0.701, test=0.742) total time=   4.8s\n",
            "[CV 3/5] END model__alpha=1, model__eta0=0.001, model__penalty=l1, pca__n_components=450;, score=(train=0.710, test=0.706) total time=   3.8s\n",
            "[CV 4/5] END model__alpha=1, model__eta0=0.001, model__penalty=l1, pca__n_components=450;, score=(train=0.711, test=0.699) total time=   3.8s\n",
            "[CV 5/5] END model__alpha=1, model__eta0=0.001, model__penalty=l1, pca__n_components=450;, score=(train=0.711, test=0.703) total time=   4.8s\n",
            "[CV 1/5] END model__alpha=1, model__eta0=0.001, model__penalty=l2, pca__n_components=300;, score=(train=0.870, test=0.857) total time=   2.8s\n",
            "[CV 2/5] END model__alpha=1, model__eta0=0.001, model__penalty=l2, pca__n_components=300;, score=(train=0.862, test=0.878) total time=   2.7s\n",
            "[CV 3/5] END model__alpha=1, model__eta0=0.001, model__penalty=l2, pca__n_components=300;, score=(train=0.874, test=0.851) total time=   2.8s\n",
            "[CV 4/5] END model__alpha=1, model__eta0=0.001, model__penalty=l2, pca__n_components=300;, score=(train=0.866, test=0.860) total time=   3.5s\n",
            "[CV 5/5] END model__alpha=1, model__eta0=0.001, model__penalty=l2, pca__n_components=300;, score=(train=0.923, test=0.907) total time=   2.8s\n",
            "[CV 1/5] END model__alpha=1, model__eta0=0.001, model__penalty=l2, pca__n_components=350;, score=(train=0.878, test=0.864) total time=   3.0s\n",
            "[CV 2/5] END model__alpha=1, model__eta0=0.001, model__penalty=l2, pca__n_components=350;, score=(train=0.864, test=0.882) total time=   3.1s\n",
            "[CV 3/5] END model__alpha=1, model__eta0=0.001, model__penalty=l2, pca__n_components=350;, score=(train=0.877, test=0.851) total time=   3.6s\n",
            "[CV 4/5] END model__alpha=1, model__eta0=0.001, model__penalty=l2, pca__n_components=350;, score=(train=0.869, test=0.863) total time=   3.0s\n",
            "[CV 5/5] END model__alpha=1, model__eta0=0.001, model__penalty=l2, pca__n_components=350;, score=(train=0.923, test=0.909) total time=   3.0s\n",
            "[CV 1/5] END model__alpha=1, model__eta0=0.001, model__penalty=l2, pca__n_components=400;, score=(train=0.894, test=0.870) total time=   4.4s\n",
            "[CV 2/5] END model__alpha=1, model__eta0=0.001, model__penalty=l2, pca__n_components=400;, score=(train=0.869, test=0.878) total time=   3.4s\n",
            "[CV 3/5] END model__alpha=1, model__eta0=0.001, model__penalty=l2, pca__n_components=400;, score=(train=0.877, test=0.852) total time=   3.5s\n",
            "[CV 4/5] END model__alpha=1, model__eta0=0.001, model__penalty=l2, pca__n_components=400;, score=(train=0.871, test=0.860) total time=   4.0s\n",
            "[CV 5/5] END model__alpha=1, model__eta0=0.001, model__penalty=l2, pca__n_components=400;, score=(train=0.912, test=0.897) total time=   3.7s\n",
            "[CV 1/5] END model__alpha=1, model__eta0=0.001, model__penalty=l2, pca__n_components=450;, score=(train=0.882, test=0.865) total time=   3.8s\n",
            "[CV 2/5] END model__alpha=1, model__eta0=0.001, model__penalty=l2, pca__n_components=450;, score=(train=0.871, test=0.884) total time=   4.4s\n",
            "[CV 3/5] END model__alpha=1, model__eta0=0.001, model__penalty=l2, pca__n_components=450;, score=(train=0.879, test=0.852) total time=   3.9s\n",
            "[CV 4/5] END model__alpha=1, model__eta0=0.001, model__penalty=l2, pca__n_components=450;, score=(train=0.873, test=0.871) total time=   3.8s\n",
            "[CV 5/5] END model__alpha=1, model__eta0=0.001, model__penalty=l2, pca__n_components=450;, score=(train=0.926, test=0.908) total time=   4.4s\n",
            "[CV 1/5] END model__alpha=1, model__eta0=0.01, model__penalty=l1, pca__n_components=300;, score=(train=0.712, test=0.696) total time=   2.9s\n",
            "[CV 2/5] END model__alpha=1, model__eta0=0.01, model__penalty=l1, pca__n_components=300;, score=(train=0.701, test=0.742) total time=   2.8s\n",
            "[CV 3/5] END model__alpha=1, model__eta0=0.01, model__penalty=l1, pca__n_components=300;, score=(train=0.710, test=0.706) total time=   2.8s\n",
            "[CV 4/5] END model__alpha=1, model__eta0=0.01, model__penalty=l1, pca__n_components=300;, score=(train=0.711, test=0.699) total time=   3.4s\n",
            "[CV 5/5] END model__alpha=1, model__eta0=0.01, model__penalty=l1, pca__n_components=300;, score=(train=0.711, test=0.703) total time=   2.8s\n",
            "[CV 1/5] END model__alpha=1, model__eta0=0.01, model__penalty=l1, pca__n_components=350;, score=(train=0.712, test=0.696) total time=   3.0s\n",
            "[CV 2/5] END model__alpha=1, model__eta0=0.01, model__penalty=l1, pca__n_components=350;, score=(train=0.701, test=0.742) total time=   3.0s\n",
            "[CV 3/5] END model__alpha=1, model__eta0=0.01, model__penalty=l1, pca__n_components=350;, score=(train=0.710, test=0.706) total time=   4.0s\n",
            "[CV 4/5] END model__alpha=1, model__eta0=0.01, model__penalty=l1, pca__n_components=350;, score=(train=0.711, test=0.699) total time=   3.0s\n",
            "[CV 5/5] END model__alpha=1, model__eta0=0.01, model__penalty=l1, pca__n_components=350;, score=(train=0.711, test=0.703) total time=   3.0s\n",
            "[CV 1/5] END model__alpha=1, model__eta0=0.01, model__penalty=l1, pca__n_components=400;, score=(train=0.712, test=0.696) total time=   3.7s\n",
            "[CV 2/5] END model__alpha=1, model__eta0=0.01, model__penalty=l1, pca__n_components=400;, score=(train=0.701, test=0.742) total time=   3.9s\n",
            "[CV 3/5] END model__alpha=1, model__eta0=0.01, model__penalty=l1, pca__n_components=400;, score=(train=0.710, test=0.706) total time=   3.5s\n",
            "[CV 4/5] END model__alpha=1, model__eta0=0.01, model__penalty=l1, pca__n_components=400;, score=(train=0.711, test=0.699) total time=   3.4s\n",
            "[CV 5/5] END model__alpha=1, model__eta0=0.01, model__penalty=l1, pca__n_components=400;, score=(train=0.711, test=0.703) total time=   4.2s\n",
            "[CV 1/5] END model__alpha=1, model__eta0=0.01, model__penalty=l1, pca__n_components=450;, score=(train=0.712, test=0.696) total time=   3.8s\n",
            "[CV 2/5] END model__alpha=1, model__eta0=0.01, model__penalty=l1, pca__n_components=450;, score=(train=0.701, test=0.742) total time=   3.7s\n",
            "[CV 3/5] END model__alpha=1, model__eta0=0.01, model__penalty=l1, pca__n_components=450;, score=(train=0.710, test=0.706) total time=   4.6s\n",
            "[CV 4/5] END model__alpha=1, model__eta0=0.01, model__penalty=l1, pca__n_components=450;, score=(train=0.711, test=0.699) total time=   3.8s\n",
            "[CV 5/5] END model__alpha=1, model__eta0=0.01, model__penalty=l1, pca__n_components=450;, score=(train=0.711, test=0.703) total time=   4.0s\n",
            "[CV 1/5] END model__alpha=1, model__eta0=0.01, model__penalty=l2, pca__n_components=300;, score=(train=0.830, test=0.827) total time=   3.4s\n",
            "[CV 2/5] END model__alpha=1, model__eta0=0.01, model__penalty=l2, pca__n_components=300;, score=(train=0.883, test=0.893) total time=   2.8s\n",
            "[CV 3/5] END model__alpha=1, model__eta0=0.01, model__penalty=l2, pca__n_components=300;, score=(train=0.856, test=0.838) total time=   2.8s\n",
            "[CV 4/5] END model__alpha=1, model__eta0=0.01, model__penalty=l2, pca__n_components=300;, score=(train=0.504, test=0.491) total time=   3.1s\n",
            "[CV 5/5] END model__alpha=1, model__eta0=0.01, model__penalty=l2, pca__n_components=300;, score=(train=0.783, test=0.784) total time=   3.2s\n",
            "[CV 1/5] END model__alpha=1, model__eta0=0.01, model__penalty=l2, pca__n_components=350;, score=(train=0.830, test=0.820) total time=   3.1s\n",
            "[CV 2/5] END model__alpha=1, model__eta0=0.01, model__penalty=l2, pca__n_components=350;, score=(train=0.736, test=0.769) total time=   2.9s\n",
            "[CV 3/5] END model__alpha=1, model__eta0=0.01, model__penalty=l2, pca__n_components=350;, score=(train=0.869, test=0.863) total time=   3.6s\n",
            "[CV 4/5] END model__alpha=1, model__eta0=0.01, model__penalty=l2, pca__n_components=350;, score=(train=0.523, test=0.520) total time=   3.1s\n",
            "[CV 5/5] END model__alpha=1, model__eta0=0.01, model__penalty=l2, pca__n_components=350;, score=(train=0.838, test=0.830) total time=   3.0s\n",
            "[CV 1/5] END model__alpha=1, model__eta0=0.01, model__penalty=l2, pca__n_components=400;, score=(train=0.839, test=0.827) total time=   3.5s\n",
            "[CV 2/5] END model__alpha=1, model__eta0=0.01, model__penalty=l2, pca__n_components=400;, score=(train=0.747, test=0.778) total time=   4.2s\n",
            "[CV 3/5] END model__alpha=1, model__eta0=0.01, model__penalty=l2, pca__n_components=400;, score=(train=0.876, test=0.869) total time=   3.4s\n",
            "[CV 4/5] END model__alpha=1, model__eta0=0.01, model__penalty=l2, pca__n_components=400;, score=(train=0.512, test=0.510) total time=   3.4s\n",
            "[CV 5/5] END model__alpha=1, model__eta0=0.01, model__penalty=l2, pca__n_components=400;, score=(train=0.840, test=0.833) total time=   4.2s\n",
            "[CV 1/5] END model__alpha=1, model__eta0=0.01, model__penalty=l2, pca__n_components=450;, score=(train=0.835, test=0.827) total time=   3.7s\n",
            "[CV 2/5] END model__alpha=1, model__eta0=0.01, model__penalty=l2, pca__n_components=450;, score=(train=0.742, test=0.773) total time=   3.7s\n",
            "[CV 3/5] END model__alpha=1, model__eta0=0.01, model__penalty=l2, pca__n_components=450;, score=(train=0.882, test=0.868) total time=   4.5s\n",
            "[CV 4/5] END model__alpha=1, model__eta0=0.01, model__penalty=l2, pca__n_components=450;, score=(train=0.510, test=0.503) total time=   3.7s\n",
            "[CV 5/5] END model__alpha=1, model__eta0=0.01, model__penalty=l2, pca__n_components=450;, score=(train=0.850, test=0.843) total time=   3.7s\n",
            "[CV 1/5] END model__alpha=1, model__eta0=0.1, model__penalty=l1, pca__n_components=300;, score=(train=0.712, test=0.696) total time=   3.5s\n",
            "[CV 2/5] END model__alpha=1, model__eta0=0.1, model__penalty=l1, pca__n_components=300;, score=(train=0.701, test=0.742) total time=   2.7s\n",
            "[CV 3/5] END model__alpha=1, model__eta0=0.1, model__penalty=l1, pca__n_components=300;, score=(train=0.710, test=0.706) total time=   2.8s\n",
            "[CV 4/5] END model__alpha=1, model__eta0=0.1, model__penalty=l1, pca__n_components=300;, score=(train=0.711, test=0.699) total time=   2.8s\n",
            "[CV 5/5] END model__alpha=1, model__eta0=0.1, model__penalty=l1, pca__n_components=300;, score=(train=0.711, test=0.703) total time=   3.6s\n",
            "[CV 1/5] END model__alpha=1, model__eta0=0.1, model__penalty=l1, pca__n_components=350;, score=(train=0.712, test=0.696) total time=   3.0s\n",
            "[CV 2/5] END model__alpha=1, model__eta0=0.1, model__penalty=l1, pca__n_components=350;, score=(train=0.701, test=0.742) total time=   3.0s\n",
            "[CV 3/5] END model__alpha=1, model__eta0=0.1, model__penalty=l1, pca__n_components=350;, score=(train=0.710, test=0.706) total time=   3.1s\n",
            "[CV 4/5] END model__alpha=1, model__eta0=0.1, model__penalty=l1, pca__n_components=350;, score=(train=0.711, test=0.699) total time=   3.9s\n",
            "[CV 5/5] END model__alpha=1, model__eta0=0.1, model__penalty=l1, pca__n_components=350;, score=(train=0.711, test=0.703) total time=   3.1s\n",
            "[CV 1/5] END model__alpha=1, model__eta0=0.1, model__penalty=l1, pca__n_components=400;, score=(train=0.712, test=0.696) total time=   3.4s\n",
            "[CV 2/5] END model__alpha=1, model__eta0=0.1, model__penalty=l1, pca__n_components=400;, score=(train=0.701, test=0.742) total time=   4.3s\n",
            "[CV 3/5] END model__alpha=1, model__eta0=0.1, model__penalty=l1, pca__n_components=400;, score=(train=0.710, test=0.706) total time=   4.5s\n",
            "[CV 4/5] END model__alpha=1, model__eta0=0.1, model__penalty=l1, pca__n_components=400;, score=(train=0.711, test=0.699) total time=   3.5s\n",
            "[CV 5/5] END model__alpha=1, model__eta0=0.1, model__penalty=l1, pca__n_components=400;, score=(train=0.711, test=0.703) total time=   4.4s\n",
            "[CV 1/5] END model__alpha=1, model__eta0=0.1, model__penalty=l1, pca__n_components=450;, score=(train=0.712, test=0.696) total time=   3.7s\n",
            "[CV 2/5] END model__alpha=1, model__eta0=0.1, model__penalty=l1, pca__n_components=450;, score=(train=0.701, test=0.742) total time=   3.7s\n",
            "[CV 3/5] END model__alpha=1, model__eta0=0.1, model__penalty=l1, pca__n_components=450;, score=(train=0.710, test=0.706) total time=   5.0s\n",
            "[CV 4/5] END model__alpha=1, model__eta0=0.1, model__penalty=l1, pca__n_components=450;, score=(train=0.711, test=0.699) total time=   3.9s\n",
            "[CV 5/5] END model__alpha=1, model__eta0=0.1, model__penalty=l1, pca__n_components=450;, score=(train=0.711, test=0.703) total time=   4.6s\n",
            "[CV 1/5] END model__alpha=1, model__eta0=0.1, model__penalty=l2, pca__n_components=300;, score=(train=0.540, test=0.550) total time=   3.5s\n",
            "[CV 2/5] END model__alpha=1, model__eta0=0.1, model__penalty=l2, pca__n_components=300;, score=(train=0.820, test=0.822) total time=   2.8s\n",
            "[CV 3/5] END model__alpha=1, model__eta0=0.1, model__penalty=l2, pca__n_components=300;, score=(train=0.652, test=0.649) total time=   3.5s\n",
            "[CV 4/5] END model__alpha=1, model__eta0=0.1, model__penalty=l2, pca__n_components=300;, score=(train=0.782, test=0.765) total time=   2.9s\n",
            "[CV 5/5] END model__alpha=1, model__eta0=0.1, model__penalty=l2, pca__n_components=300;, score=(train=0.683, test=0.692) total time=   3.3s\n",
            "[CV 1/5] END model__alpha=1, model__eta0=0.1, model__penalty=l2, pca__n_components=350;, score=(train=0.733, test=0.721) total time=   3.0s\n",
            "[CV 2/5] END model__alpha=1, model__eta0=0.1, model__penalty=l2, pca__n_components=350;, score=(train=0.843, test=0.808) total time=   2.9s\n",
            "[CV 3/5] END model__alpha=1, model__eta0=0.1, model__penalty=l2, pca__n_components=350;, score=(train=0.808, test=0.799) total time=   3.4s\n",
            "[CV 4/5] END model__alpha=1, model__eta0=0.1, model__penalty=l2, pca__n_components=350;, score=(train=0.784, test=0.768) total time=   3.2s\n",
            "[CV 5/5] END model__alpha=1, model__eta0=0.1, model__penalty=l2, pca__n_components=350;, score=(train=0.709, test=0.716) total time=   3.0s\n",
            "[CV 1/5] END model__alpha=1, model__eta0=0.1, model__penalty=l2, pca__n_components=400;, score=(train=0.732, test=0.709) total time=   3.4s\n",
            "[CV 2/5] END model__alpha=1, model__eta0=0.1, model__penalty=l2, pca__n_components=400;, score=(train=0.732, test=0.722) total time=   4.3s\n",
            "[CV 3/5] END model__alpha=1, model__eta0=0.1, model__penalty=l2, pca__n_components=400;, score=(train=0.709, test=0.690) total time=   3.4s\n",
            "[CV 4/5] END model__alpha=1, model__eta0=0.1, model__penalty=l2, pca__n_components=400;, score=(train=0.793, test=0.769) total time=   3.7s\n",
            "[CV 5/5] END model__alpha=1, model__eta0=0.1, model__penalty=l2, pca__n_components=400;, score=(train=0.717, test=0.715) total time=   5.1s\n",
            "[CV 1/5] END model__alpha=1, model__eta0=0.1, model__penalty=l2, pca__n_components=450;, score=(train=0.851, test=0.853) total time=   3.6s\n",
            "[CV 2/5] END model__alpha=1, model__eta0=0.1, model__penalty=l2, pca__n_components=450;, score=(train=0.757, test=0.748) total time=   3.7s\n",
            "[CV 3/5] END model__alpha=1, model__eta0=0.1, model__penalty=l2, pca__n_components=450;, score=(train=0.778, test=0.770) total time=   4.6s\n",
            "[CV 4/5] END model__alpha=1, model__eta0=0.1, model__penalty=l2, pca__n_components=450;, score=(train=0.786, test=0.780) total time=   3.7s\n",
            "[CV 5/5] END model__alpha=1, model__eta0=0.1, model__penalty=l2, pca__n_components=450;, score=(train=0.718, test=0.709) total time=   3.6s\n",
            "[CV 1/5] END model__alpha=10, model__eta0=0.0001, model__penalty=l1, pca__n_components=300;, score=(train=0.712, test=0.696) total time=   3.9s\n",
            "[CV 2/5] END model__alpha=10, model__eta0=0.0001, model__penalty=l1, pca__n_components=300;, score=(train=0.701, test=0.742) total time=   3.0s\n",
            "[CV 3/5] END model__alpha=10, model__eta0=0.0001, model__penalty=l1, pca__n_components=300;, score=(train=0.710, test=0.706) total time=   3.0s\n",
            "[CV 4/5] END model__alpha=10, model__eta0=0.0001, model__penalty=l1, pca__n_components=300;, score=(train=0.711, test=0.699) total time=   4.2s\n",
            "[CV 5/5] END model__alpha=10, model__eta0=0.0001, model__penalty=l1, pca__n_components=300;, score=(train=0.711, test=0.703) total time=   4.0s\n",
            "[CV 1/5] END model__alpha=10, model__eta0=0.0001, model__penalty=l1, pca__n_components=350;, score=(train=0.712, test=0.696) total time=   4.1s\n",
            "[CV 2/5] END model__alpha=10, model__eta0=0.0001, model__penalty=l1, pca__n_components=350;, score=(train=0.701, test=0.742) total time=   3.7s\n",
            "[CV 3/5] END model__alpha=10, model__eta0=0.0001, model__penalty=l1, pca__n_components=350;, score=(train=0.710, test=0.706) total time=   3.4s\n",
            "[CV 4/5] END model__alpha=10, model__eta0=0.0001, model__penalty=l1, pca__n_components=350;, score=(train=0.711, test=0.699) total time=   3.3s\n",
            "[CV 5/5] END model__alpha=10, model__eta0=0.0001, model__penalty=l1, pca__n_components=350;, score=(train=0.711, test=0.703) total time=   3.2s\n",
            "[CV 1/5] END model__alpha=10, model__eta0=0.0001, model__penalty=l1, pca__n_components=400;, score=(train=0.712, test=0.696) total time=   4.3s\n",
            "[CV 2/5] END model__alpha=10, model__eta0=0.0001, model__penalty=l1, pca__n_components=400;, score=(train=0.701, test=0.742) total time=   3.6s\n",
            "[CV 3/5] END model__alpha=10, model__eta0=0.0001, model__penalty=l1, pca__n_components=400;, score=(train=0.710, test=0.706) total time=   3.7s\n",
            "[CV 4/5] END model__alpha=10, model__eta0=0.0001, model__penalty=l1, pca__n_components=400;, score=(train=0.711, test=0.699) total time=   4.6s\n",
            "[CV 5/5] END model__alpha=10, model__eta0=0.0001, model__penalty=l1, pca__n_components=400;, score=(train=0.711, test=0.703) total time=   3.7s\n",
            "[CV 1/5] END model__alpha=10, model__eta0=0.0001, model__penalty=l1, pca__n_components=450;, score=(train=0.712, test=0.696) total time=   4.0s\n",
            "[CV 2/5] END model__alpha=10, model__eta0=0.0001, model__penalty=l1, pca__n_components=450;, score=(train=0.701, test=0.742) total time=   4.9s\n",
            "[CV 3/5] END model__alpha=10, model__eta0=0.0001, model__penalty=l1, pca__n_components=450;, score=(train=0.710, test=0.706) total time=   4.1s\n",
            "[CV 4/5] END model__alpha=10, model__eta0=0.0001, model__penalty=l1, pca__n_components=450;, score=(train=0.711, test=0.699) total time=   4.6s\n",
            "[CV 5/5] END model__alpha=10, model__eta0=0.0001, model__penalty=l1, pca__n_components=450;, score=(train=0.711, test=0.703) total time=   4.2s\n",
            "[CV 1/5] END model__alpha=10, model__eta0=0.0001, model__penalty=l2, pca__n_components=300;, score=(train=0.767, test=0.752) total time=   2.8s\n",
            "[CV 2/5] END model__alpha=10, model__eta0=0.0001, model__penalty=l2, pca__n_components=300;, score=(train=0.759, test=0.789) total time=   2.8s\n",
            "[CV 3/5] END model__alpha=10, model__eta0=0.0001, model__penalty=l2, pca__n_components=300;, score=(train=0.764, test=0.748) total time=   3.6s\n",
            "[CV 4/5] END model__alpha=10, model__eta0=0.0001, model__penalty=l2, pca__n_components=300;, score=(train=0.760, test=0.744) total time=   2.8s\n",
            "[CV 5/5] END model__alpha=10, model__eta0=0.0001, model__penalty=l2, pca__n_components=300;, score=(train=0.760, test=0.748) total time=   2.8s\n",
            "[CV 1/5] END model__alpha=10, model__eta0=0.0001, model__penalty=l2, pca__n_components=350;, score=(train=0.767, test=0.754) total time=   3.1s\n",
            "[CV 2/5] END model__alpha=10, model__eta0=0.0001, model__penalty=l2, pca__n_components=350;, score=(train=0.759, test=0.790) total time=   3.7s\n",
            "[CV 3/5] END model__alpha=10, model__eta0=0.0001, model__penalty=l2, pca__n_components=350;, score=(train=0.764, test=0.750) total time=   3.0s\n",
            "[CV 4/5] END model__alpha=10, model__eta0=0.0001, model__penalty=l2, pca__n_components=350;, score=(train=0.761, test=0.745) total time=   3.0s\n",
            "[CV 5/5] END model__alpha=10, model__eta0=0.0001, model__penalty=l2, pca__n_components=350;, score=(train=0.761, test=0.747) total time=   3.7s\n",
            "[CV 1/5] END model__alpha=10, model__eta0=0.0001, model__penalty=l2, pca__n_components=400;, score=(train=0.767, test=0.752) total time=   3.9s\n",
            "[CV 2/5] END model__alpha=10, model__eta0=0.0001, model__penalty=l2, pca__n_components=400;, score=(train=0.760, test=0.791) total time=   3.4s\n",
            "[CV 3/5] END model__alpha=10, model__eta0=0.0001, model__penalty=l2, pca__n_components=400;, score=(train=0.765, test=0.750) total time=   4.0s\n",
            "[CV 4/5] END model__alpha=10, model__eta0=0.0001, model__penalty=l2, pca__n_components=400;, score=(train=0.762, test=0.746) total time=   3.7s\n",
            "[CV 5/5] END model__alpha=10, model__eta0=0.0001, model__penalty=l2, pca__n_components=400;, score=(train=0.762, test=0.748) total time=   3.4s\n",
            "[CV 1/5] END model__alpha=10, model__eta0=0.0001, model__penalty=l2, pca__n_components=450;, score=(train=0.767, test=0.752) total time=   4.2s\n",
            "[CV 2/5] END model__alpha=10, model__eta0=0.0001, model__penalty=l2, pca__n_components=450;, score=(train=0.760, test=0.789) total time=   4.2s\n",
            "[CV 3/5] END model__alpha=10, model__eta0=0.0001, model__penalty=l2, pca__n_components=450;, score=(train=0.766, test=0.748) total time=   3.8s\n",
            "[CV 4/5] END model__alpha=10, model__eta0=0.0001, model__penalty=l2, pca__n_components=450;, score=(train=0.762, test=0.746) total time=   4.2s\n",
            "[CV 5/5] END model__alpha=10, model__eta0=0.0001, model__penalty=l2, pca__n_components=450;, score=(train=0.761, test=0.750) total time=   4.1s\n",
            "[CV 1/5] END model__alpha=10, model__eta0=0.001, model__penalty=l1, pca__n_components=300;, score=(train=0.712, test=0.696) total time=   2.8s\n",
            "[CV 2/5] END model__alpha=10, model__eta0=0.001, model__penalty=l1, pca__n_components=300;, score=(train=0.701, test=0.742) total time=   2.8s\n",
            "[CV 3/5] END model__alpha=10, model__eta0=0.001, model__penalty=l1, pca__n_components=300;, score=(train=0.710, test=0.706) total time=   3.7s\n",
            "[CV 4/5] END model__alpha=10, model__eta0=0.001, model__penalty=l1, pca__n_components=300;, score=(train=0.711, test=0.699) total time=   2.7s\n",
            "[CV 5/5] END model__alpha=10, model__eta0=0.001, model__penalty=l1, pca__n_components=300;, score=(train=0.711, test=0.703) total time=   2.7s\n",
            "[CV 1/5] END model__alpha=10, model__eta0=0.001, model__penalty=l1, pca__n_components=350;, score=(train=0.712, test=0.696) total time=   3.1s\n",
            "[CV 2/5] END model__alpha=10, model__eta0=0.001, model__penalty=l1, pca__n_components=350;, score=(train=0.701, test=0.742) total time=   4.3s\n",
            "[CV 3/5] END model__alpha=10, model__eta0=0.001, model__penalty=l1, pca__n_components=350;, score=(train=0.710, test=0.706) total time=   3.0s\n",
            "[CV 4/5] END model__alpha=10, model__eta0=0.001, model__penalty=l1, pca__n_components=350;, score=(train=0.711, test=0.699) total time=   3.1s\n",
            "[CV 5/5] END model__alpha=10, model__eta0=0.001, model__penalty=l1, pca__n_components=350;, score=(train=0.711, test=0.703) total time=   3.7s\n",
            "[CV 1/5] END model__alpha=10, model__eta0=0.001, model__penalty=l1, pca__n_components=400;, score=(train=0.712, test=0.696) total time=   3.5s\n",
            "[CV 2/5] END model__alpha=10, model__eta0=0.001, model__penalty=l1, pca__n_components=400;, score=(train=0.701, test=0.742) total time=   3.5s\n",
            "[CV 3/5] END model__alpha=10, model__eta0=0.001, model__penalty=l1, pca__n_components=400;, score=(train=0.710, test=0.706) total time=   3.8s\n",
            "[CV 4/5] END model__alpha=10, model__eta0=0.001, model__penalty=l1, pca__n_components=400;, score=(train=0.711, test=0.699) total time=   4.1s\n",
            "[CV 5/5] END model__alpha=10, model__eta0=0.001, model__penalty=l1, pca__n_components=400;, score=(train=0.711, test=0.703) total time=   3.5s\n",
            "[CV 1/5] END model__alpha=10, model__eta0=0.001, model__penalty=l1, pca__n_components=450;, score=(train=0.712, test=0.696) total time=   4.3s\n",
            "[CV 2/5] END model__alpha=10, model__eta0=0.001, model__penalty=l1, pca__n_components=450;, score=(train=0.701, test=0.742) total time=   4.2s\n",
            "[CV 3/5] END model__alpha=10, model__eta0=0.001, model__penalty=l1, pca__n_components=450;, score=(train=0.710, test=0.706) total time=   3.7s\n",
            "[CV 4/5] END model__alpha=10, model__eta0=0.001, model__penalty=l1, pca__n_components=450;, score=(train=0.711, test=0.699) total time=   4.5s\n",
            "[CV 5/5] END model__alpha=10, model__eta0=0.001, model__penalty=l1, pca__n_components=450;, score=(train=0.711, test=0.703) total time=   4.0s\n",
            "[CV 1/5] END model__alpha=10, model__eta0=0.001, model__penalty=l2, pca__n_components=300;, score=(train=0.759, test=0.746) total time=   2.7s\n",
            "[CV 2/5] END model__alpha=10, model__eta0=0.001, model__penalty=l2, pca__n_components=300;, score=(train=0.754, test=0.785) total time=   2.7s\n",
            "[CV 3/5] END model__alpha=10, model__eta0=0.001, model__penalty=l2, pca__n_components=300;, score=(train=0.755, test=0.748) total time=   3.7s\n",
            "[CV 4/5] END model__alpha=10, model__eta0=0.001, model__penalty=l2, pca__n_components=300;, score=(train=0.746, test=0.734) total time=   2.7s\n",
            "[CV 5/5] END model__alpha=10, model__eta0=0.001, model__penalty=l2, pca__n_components=300;, score=(train=0.734, test=0.727) total time=   2.8s\n",
            "[CV 1/5] END model__alpha=10, model__eta0=0.001, model__penalty=l2, pca__n_components=350;, score=(train=0.757, test=0.745) total time=   3.1s\n",
            "[CV 2/5] END model__alpha=10, model__eta0=0.001, model__penalty=l2, pca__n_components=350;, score=(train=0.754, test=0.781) total time=   3.7s\n",
            "[CV 3/5] END model__alpha=10, model__eta0=0.001, model__penalty=l2, pca__n_components=350;, score=(train=0.756, test=0.748) total time=   2.9s\n",
            "[CV 4/5] END model__alpha=10, model__eta0=0.001, model__penalty=l2, pca__n_components=350;, score=(train=0.746, test=0.734) total time=   3.0s\n",
            "[CV 5/5] END model__alpha=10, model__eta0=0.001, model__penalty=l2, pca__n_components=350;, score=(train=0.733, test=0.727) total time=   3.3s\n",
            "[CV 1/5] END model__alpha=10, model__eta0=0.001, model__penalty=l2, pca__n_components=400;, score=(train=0.758, test=0.744) total time=   4.0s\n",
            "[CV 2/5] END model__alpha=10, model__eta0=0.001, model__penalty=l2, pca__n_components=400;, score=(train=0.754, test=0.780) total time=   3.5s\n",
            "[CV 3/5] END model__alpha=10, model__eta0=0.001, model__penalty=l2, pca__n_components=400;, score=(train=0.754, test=0.748) total time=   3.3s\n",
            "[CV 4/5] END model__alpha=10, model__eta0=0.001, model__penalty=l2, pca__n_components=400;, score=(train=0.747, test=0.734) total time=   4.3s\n",
            "[CV 5/5] END model__alpha=10, model__eta0=0.001, model__penalty=l2, pca__n_components=400;, score=(train=0.735, test=0.727) total time=   3.3s\n",
            "[CV 1/5] END model__alpha=10, model__eta0=0.001, model__penalty=l2, pca__n_components=450;, score=(train=0.759, test=0.745) total time=   3.7s\n",
            "[CV 2/5] END model__alpha=10, model__eta0=0.001, model__penalty=l2, pca__n_components=450;, score=(train=0.753, test=0.781) total time=   4.5s\n",
            "[CV 3/5] END model__alpha=10, model__eta0=0.001, model__penalty=l2, pca__n_components=450;, score=(train=0.756, test=0.750) total time=   3.7s\n",
            "[CV 4/5] END model__alpha=10, model__eta0=0.001, model__penalty=l2, pca__n_components=450;, score=(train=0.747, test=0.734) total time=   3.8s\n",
            "[CV 5/5] END model__alpha=10, model__eta0=0.001, model__penalty=l2, pca__n_components=450;, score=(train=0.751, test=0.741) total time=   4.6s\n",
            "[CV 1/5] END model__alpha=10, model__eta0=0.01, model__penalty=l1, pca__n_components=300;, score=(train=0.712, test=0.696) total time=   2.8s\n",
            "[CV 2/5] END model__alpha=10, model__eta0=0.01, model__penalty=l1, pca__n_components=300;, score=(train=0.701, test=0.742) total time=   2.8s\n",
            "[CV 3/5] END model__alpha=10, model__eta0=0.01, model__penalty=l1, pca__n_components=300;, score=(train=0.710, test=0.706) total time=   2.8s\n",
            "[CV 4/5] END model__alpha=10, model__eta0=0.01, model__penalty=l1, pca__n_components=300;, score=(train=0.711, test=0.699) total time=   3.3s\n",
            "[CV 5/5] END model__alpha=10, model__eta0=0.01, model__penalty=l1, pca__n_components=300;, score=(train=0.711, test=0.703) total time=   2.7s\n",
            "[CV 1/5] END model__alpha=10, model__eta0=0.01, model__penalty=l1, pca__n_components=350;, score=(train=0.712, test=0.696) total time=   3.0s\n",
            "[CV 2/5] END model__alpha=10, model__eta0=0.01, model__penalty=l1, pca__n_components=350;, score=(train=0.701, test=0.742) total time=   3.4s\n",
            "[CV 3/5] END model__alpha=10, model__eta0=0.01, model__penalty=l1, pca__n_components=350;, score=(train=0.710, test=0.706) total time=   3.5s\n",
            "[CV 4/5] END model__alpha=10, model__eta0=0.01, model__penalty=l1, pca__n_components=350;, score=(train=0.711, test=0.699) total time=   3.0s\n",
            "[CV 5/5] END model__alpha=10, model__eta0=0.01, model__penalty=l1, pca__n_components=350;, score=(train=0.711, test=0.703) total time=   3.0s\n",
            "[CV 1/5] END model__alpha=10, model__eta0=0.01, model__penalty=l1, pca__n_components=400;, score=(train=0.712, test=0.696) total time=   4.4s\n",
            "[CV 2/5] END model__alpha=10, model__eta0=0.01, model__penalty=l1, pca__n_components=400;, score=(train=0.701, test=0.742) total time=   3.5s\n",
            "[CV 3/5] END model__alpha=10, model__eta0=0.01, model__penalty=l1, pca__n_components=400;, score=(train=0.710, test=0.706) total time=   3.5s\n",
            "[CV 4/5] END model__alpha=10, model__eta0=0.01, model__penalty=l1, pca__n_components=400;, score=(train=0.711, test=0.699) total time=   4.3s\n",
            "[CV 5/5] END model__alpha=10, model__eta0=0.01, model__penalty=l1, pca__n_components=400;, score=(train=0.711, test=0.703) total time=   3.5s\n",
            "[CV 1/5] END model__alpha=10, model__eta0=0.01, model__penalty=l1, pca__n_components=450;, score=(train=0.712, test=0.696) total time=   3.8s\n",
            "[CV 2/5] END model__alpha=10, model__eta0=0.01, model__penalty=l1, pca__n_components=450;, score=(train=0.701, test=0.742) total time=   4.6s\n",
            "[CV 3/5] END model__alpha=10, model__eta0=0.01, model__penalty=l1, pca__n_components=450;, score=(train=0.710, test=0.706) total time=   3.8s\n",
            "[CV 4/5] END model__alpha=10, model__eta0=0.01, model__penalty=l1, pca__n_components=450;, score=(train=0.711, test=0.699) total time=   3.7s\n",
            "[CV 5/5] END model__alpha=10, model__eta0=0.01, model__penalty=l1, pca__n_components=450;, score=(train=0.711, test=0.703) total time=   4.7s\n",
            "[CV 1/5] END model__alpha=10, model__eta0=0.01, model__penalty=l2, pca__n_components=300;, score=(train=0.743, test=0.734) total time=   2.8s\n",
            "[CV 2/5] END model__alpha=10, model__eta0=0.01, model__penalty=l2, pca__n_components=300;, score=(train=0.740, test=0.774) total time=   2.8s\n",
            "[CV 3/5] END model__alpha=10, model__eta0=0.01, model__penalty=l2, pca__n_components=300;, score=(train=0.748, test=0.734) total time=   2.6s\n",
            "[CV 4/5] END model__alpha=10, model__eta0=0.01, model__penalty=l2, pca__n_components=300;, score=(train=0.719, test=0.706) total time=   3.5s\n",
            "[CV 5/5] END model__alpha=10, model__eta0=0.01, model__penalty=l2, pca__n_components=300;, score=(train=0.744, test=0.727) total time=   2.8s\n",
            "[CV 1/5] END model__alpha=10, model__eta0=0.01, model__penalty=l2, pca__n_components=350;, score=(train=0.743, test=0.736) total time=   2.9s\n",
            "[CV 2/5] END model__alpha=10, model__eta0=0.01, model__penalty=l2, pca__n_components=350;, score=(train=0.737, test=0.768) total time=   3.0s\n",
            "[CV 3/5] END model__alpha=10, model__eta0=0.01, model__penalty=l2, pca__n_components=350;, score=(train=0.751, test=0.733) total time=   3.8s\n",
            "[CV 4/5] END model__alpha=10, model__eta0=0.01, model__penalty=l2, pca__n_components=350;, score=(train=0.724, test=0.716) total time=   3.1s\n",
            "[CV 5/5] END model__alpha=10, model__eta0=0.01, model__penalty=l2, pca__n_components=350;, score=(train=0.745, test=0.727) total time=   3.1s\n",
            "[CV 1/5] END model__alpha=10, model__eta0=0.01, model__penalty=l2, pca__n_components=400;, score=(train=0.746, test=0.736) total time=   3.9s\n",
            "[CV 2/5] END model__alpha=10, model__eta0=0.01, model__penalty=l2, pca__n_components=400;, score=(train=0.733, test=0.769) total time=   3.6s\n",
            "[CV 3/5] END model__alpha=10, model__eta0=0.01, model__penalty=l2, pca__n_components=400;, score=(train=0.750, test=0.734) total time=   3.4s\n",
            "[CV 4/5] END model__alpha=10, model__eta0=0.01, model__penalty=l2, pca__n_components=400;, score=(train=0.736, test=0.719) total time=   3.4s\n",
            "[CV 5/5] END model__alpha=10, model__eta0=0.01, model__penalty=l2, pca__n_components=400;, score=(train=0.745, test=0.729) total time=   4.0s\n",
            "[CV 1/5] END model__alpha=10, model__eta0=0.01, model__penalty=l2, pca__n_components=450;, score=(train=0.748, test=0.739) total time=   3.8s\n",
            "[CV 2/5] END model__alpha=10, model__eta0=0.01, model__penalty=l2, pca__n_components=450;, score=(train=0.739, test=0.768) total time=   3.8s\n",
            "[CV 3/5] END model__alpha=10, model__eta0=0.01, model__penalty=l2, pca__n_components=450;, score=(train=0.749, test=0.735) total time=   4.3s\n",
            "[CV 4/5] END model__alpha=10, model__eta0=0.01, model__penalty=l2, pca__n_components=450;, score=(train=0.731, test=0.717) total time=   3.7s\n",
            "[CV 5/5] END model__alpha=10, model__eta0=0.01, model__penalty=l2, pca__n_components=450;, score=(train=0.745, test=0.727) total time=   3.7s\n",
            "[CV 1/5] END model__alpha=10, model__eta0=0.1, model__penalty=l1, pca__n_components=300;, score=(train=0.712, test=0.696) total time=   3.4s\n",
            "[CV 2/5] END model__alpha=10, model__eta0=0.1, model__penalty=l1, pca__n_components=300;, score=(train=0.701, test=0.742) total time=   2.8s\n",
            "[CV 3/5] END model__alpha=10, model__eta0=0.1, model__penalty=l1, pca__n_components=300;, score=(train=0.710, test=0.706) total time=   2.8s\n",
            "[CV 4/5] END model__alpha=10, model__eta0=0.1, model__penalty=l1, pca__n_components=300;, score=(train=0.711, test=0.699) total time=   2.9s\n",
            "[CV 5/5] END model__alpha=10, model__eta0=0.1, model__penalty=l1, pca__n_components=300;, score=(train=0.711, test=0.703) total time=   3.3s\n",
            "[CV 1/5] END model__alpha=10, model__eta0=0.1, model__penalty=l1, pca__n_components=350;, score=(train=0.712, test=0.696) total time=   3.0s\n",
            "[CV 2/5] END model__alpha=10, model__eta0=0.1, model__penalty=l1, pca__n_components=350;, score=(train=0.701, test=0.742) total time=   3.1s\n",
            "[CV 3/5] END model__alpha=10, model__eta0=0.1, model__penalty=l1, pca__n_components=350;, score=(train=0.710, test=0.706) total time=   3.8s\n",
            "[CV 4/5] END model__alpha=10, model__eta0=0.1, model__penalty=l1, pca__n_components=350;, score=(train=0.711, test=0.699) total time=   3.3s\n",
            "[CV 5/5] END model__alpha=10, model__eta0=0.1, model__penalty=l1, pca__n_components=350;, score=(train=0.711, test=0.703) total time=   3.0s\n",
            "[CV 1/5] END model__alpha=10, model__eta0=0.1, model__penalty=l1, pca__n_components=400;, score=(train=0.712, test=0.696) total time=   3.5s\n",
            "[CV 2/5] END model__alpha=10, model__eta0=0.1, model__penalty=l1, pca__n_components=400;, score=(train=0.701, test=0.742) total time=   4.3s\n",
            "[CV 3/5] END model__alpha=10, model__eta0=0.1, model__penalty=l1, pca__n_components=400;, score=(train=0.710, test=0.706) total time=   3.5s\n",
            "[CV 4/5] END model__alpha=10, model__eta0=0.1, model__penalty=l1, pca__n_components=400;, score=(train=0.711, test=0.699) total time=   3.5s\n",
            "[CV 5/5] END model__alpha=10, model__eta0=0.1, model__penalty=l1, pca__n_components=400;, score=(train=0.711, test=0.703) total time=   4.4s\n",
            "[CV 1/5] END model__alpha=10, model__eta0=0.1, model__penalty=l1, pca__n_components=450;, score=(train=0.712, test=0.696) total time=   3.7s\n",
            "[CV 2/5] END model__alpha=10, model__eta0=0.1, model__penalty=l1, pca__n_components=450;, score=(train=0.701, test=0.742) total time=   3.7s\n",
            "[CV 3/5] END model__alpha=10, model__eta0=0.1, model__penalty=l1, pca__n_components=450;, score=(train=0.710, test=0.706) total time=   4.7s\n",
            "[CV 4/5] END model__alpha=10, model__eta0=0.1, model__penalty=l1, pca__n_components=450;, score=(train=0.711, test=0.699) total time=   3.8s\n",
            "[CV 5/5] END model__alpha=10, model__eta0=0.1, model__penalty=l1, pca__n_components=450;, score=(train=0.711, test=0.703) total time=   3.8s\n",
            "[CV 1/5] END model__alpha=10, model__eta0=0.1, model__penalty=l2, pca__n_components=300;, score=(train=0.684, test=0.664) total time=   3.6s\n",
            "[CV 2/5] END model__alpha=10, model__eta0=0.1, model__penalty=l2, pca__n_components=300;, score=(train=0.510, test=0.482) total time=   2.7s\n",
            "[CV 3/5] END model__alpha=10, model__eta0=0.1, model__penalty=l2, pca__n_components=300;, score=(train=0.639, test=0.630) total time=   2.8s\n",
            "[CV 4/5] END model__alpha=10, model__eta0=0.1, model__penalty=l2, pca__n_components=300;, score=(train=0.666, test=0.677) total time=   2.7s\n",
            "[CV 5/5] END model__alpha=10, model__eta0=0.1, model__penalty=l2, pca__n_components=300;, score=(train=0.677, test=0.681) total time=   3.5s\n",
            "[CV 1/5] END model__alpha=10, model__eta0=0.1, model__penalty=l2, pca__n_components=350;, score=(train=0.572, test=0.587) total time=   3.0s\n",
            "[CV 2/5] END model__alpha=10, model__eta0=0.1, model__penalty=l2, pca__n_components=350;, score=(train=0.701, test=0.742) total time=   2.9s\n",
            "[CV 3/5] END model__alpha=10, model__eta0=0.1, model__penalty=l2, pca__n_components=350;, score=(train=0.653, test=0.640) total time=   2.9s\n",
            "[CV 4/5] END model__alpha=10, model__eta0=0.1, model__penalty=l2, pca__n_components=350;, score=(train=0.699, test=0.694) total time=   3.6s\n",
            "[CV 5/5] END model__alpha=10, model__eta0=0.1, model__penalty=l2, pca__n_components=350;, score=(train=0.712, test=0.701) total time=   3.0s\n",
            "[CV 1/5] END model__alpha=10, model__eta0=0.1, model__penalty=l2, pca__n_components=400;, score=(train=0.731, test=0.738) total time=   3.4s\n",
            "[CV 2/5] END model__alpha=10, model__eta0=0.1, model__penalty=l2, pca__n_components=400;, score=(train=0.701, test=0.742) total time=   4.2s\n",
            "[CV 3/5] END model__alpha=10, model__eta0=0.1, model__penalty=l2, pca__n_components=400;, score=(train=0.635, test=0.629) total time=   3.4s\n",
            "[CV 4/5] END model__alpha=10, model__eta0=0.1, model__penalty=l2, pca__n_components=400;, score=(train=0.705, test=0.700) total time=   3.3s\n",
            "[CV 5/5] END model__alpha=10, model__eta0=0.1, model__penalty=l2, pca__n_components=400;, score=(train=0.712, test=0.704) total time=   3.7s\n",
            "[CV 1/5] END model__alpha=10, model__eta0=0.1, model__penalty=l2, pca__n_components=450;, score=(train=0.695, test=0.698) total time=   4.1s\n",
            "[CV 2/5] END model__alpha=10, model__eta0=0.1, model__penalty=l2, pca__n_components=450;, score=(train=0.701, test=0.742) total time=   3.7s\n",
            "[CV 3/5] END model__alpha=10, model__eta0=0.1, model__penalty=l2, pca__n_components=450;, score=(train=0.642, test=0.637) total time=   4.0s\n",
            "[CV 4/5] END model__alpha=10, model__eta0=0.1, model__penalty=l2, pca__n_components=450;, score=(train=0.697, test=0.692) total time=   4.1s\n",
            "[CV 5/5] END model__alpha=10, model__eta0=0.1, model__penalty=l2, pca__n_components=450;, score=(train=0.711, test=0.704) total time=   3.7s\n",
            "[CV 1/5] END model__alpha=100, model__eta0=0.0001, model__penalty=l1, pca__n_components=300;, score=(train=0.712, test=0.696) total time=   3.0s\n",
            "[CV 2/5] END model__alpha=100, model__eta0=0.0001, model__penalty=l1, pca__n_components=300;, score=(train=0.701, test=0.742) total time=   3.7s\n",
            "[CV 3/5] END model__alpha=100, model__eta0=0.0001, model__penalty=l1, pca__n_components=300;, score=(train=0.710, test=0.706) total time=   3.0s\n",
            "[CV 4/5] END model__alpha=100, model__eta0=0.0001, model__penalty=l1, pca__n_components=300;, score=(train=0.711, test=0.699) total time=   3.0s\n",
            "[CV 5/5] END model__alpha=100, model__eta0=0.0001, model__penalty=l1, pca__n_components=300;, score=(train=0.711, test=0.703) total time=   3.2s\n",
            "[CV 1/5] END model__alpha=100, model__eta0=0.0001, model__penalty=l1, pca__n_components=350;, score=(train=0.712, test=0.696) total time=   3.6s\n",
            "[CV 2/5] END model__alpha=100, model__eta0=0.0001, model__penalty=l1, pca__n_components=350;, score=(train=0.701, test=0.742) total time=   3.2s\n",
            "[CV 3/5] END model__alpha=100, model__eta0=0.0001, model__penalty=l1, pca__n_components=350;, score=(train=0.710, test=0.706) total time=   3.2s\n",
            "[CV 4/5] END model__alpha=100, model__eta0=0.0001, model__penalty=l1, pca__n_components=350;, score=(train=0.711, test=0.699) total time=   4.0s\n",
            "[CV 5/5] END model__alpha=100, model__eta0=0.0001, model__penalty=l1, pca__n_components=350;, score=(train=0.711, test=0.703) total time=   3.3s\n",
            "[CV 1/5] END model__alpha=100, model__eta0=0.0001, model__penalty=l1, pca__n_components=400;, score=(train=0.712, test=0.696) total time=   3.7s\n",
            "[CV 2/5] END model__alpha=100, model__eta0=0.0001, model__penalty=l1, pca__n_components=400;, score=(train=0.701, test=0.742) total time=   4.6s\n",
            "[CV 3/5] END model__alpha=100, model__eta0=0.0001, model__penalty=l1, pca__n_components=400;, score=(train=0.710, test=0.706) total time=   3.6s\n",
            "[CV 4/5] END model__alpha=100, model__eta0=0.0001, model__penalty=l1, pca__n_components=400;, score=(train=0.711, test=0.699) total time=   3.7s\n",
            "[CV 5/5] END model__alpha=100, model__eta0=0.0001, model__penalty=l1, pca__n_components=400;, score=(train=0.711, test=0.703) total time=   4.4s\n",
            "[CV 1/5] END model__alpha=100, model__eta0=0.0001, model__penalty=l1, pca__n_components=450;, score=(train=0.712, test=0.696) total time=   4.0s\n",
            "[CV 2/5] END model__alpha=100, model__eta0=0.0001, model__penalty=l1, pca__n_components=450;, score=(train=0.701, test=0.742) total time=   4.0s\n",
            "[CV 3/5] END model__alpha=100, model__eta0=0.0001, model__penalty=l1, pca__n_components=450;, score=(train=0.710, test=0.706) total time=   5.0s\n",
            "[CV 4/5] END model__alpha=100, model__eta0=0.0001, model__penalty=l1, pca__n_components=450;, score=(train=0.711, test=0.699) total time=   4.0s\n",
            "[CV 5/5] END model__alpha=100, model__eta0=0.0001, model__penalty=l1, pca__n_components=450;, score=(train=0.711, test=0.703) total time=   4.1s\n",
            "[CV 1/5] END model__alpha=100, model__eta0=0.0001, model__penalty=l2, pca__n_components=300;, score=(train=0.720, test=0.714) total time=   3.5s\n",
            "[CV 2/5] END model__alpha=100, model__eta0=0.0001, model__penalty=l2, pca__n_components=300;, score=(train=0.710, test=0.749) total time=   2.8s\n",
            "[CV 3/5] END model__alpha=100, model__eta0=0.0001, model__penalty=l2, pca__n_components=300;, score=(train=0.722, test=0.716) total time=   2.8s\n",
            "[CV 4/5] END model__alpha=100, model__eta0=0.0001, model__penalty=l2, pca__n_components=300;, score=(train=0.712, test=0.699) total time=   2.7s\n",
            "[CV 5/5] END model__alpha=100, model__eta0=0.0001, model__penalty=l2, pca__n_components=300;, score=(train=0.720, test=0.711) total time=   3.5s\n",
            "[CV 1/5] END model__alpha=100, model__eta0=0.0001, model__penalty=l2, pca__n_components=350;, score=(train=0.720, test=0.715) total time=   3.0s\n",
            "[CV 2/5] END model__alpha=100, model__eta0=0.0001, model__penalty=l2, pca__n_components=350;, score=(train=0.710, test=0.749) total time=   2.9s\n",
            "[CV 3/5] END model__alpha=100, model__eta0=0.0001, model__penalty=l2, pca__n_components=350;, score=(train=0.722, test=0.716) total time=   3.3s\n",
            "[CV 4/5] END model__alpha=100, model__eta0=0.0001, model__penalty=l2, pca__n_components=350;, score=(train=0.712, test=0.699) total time=   3.4s\n",
            "[CV 5/5] END model__alpha=100, model__eta0=0.0001, model__penalty=l2, pca__n_components=350;, score=(train=0.720, test=0.711) total time=   3.0s\n",
            "[CV 1/5] END model__alpha=100, model__eta0=0.0001, model__penalty=l2, pca__n_components=400;, score=(train=0.720, test=0.715) total time=   3.5s\n",
            "[CV 2/5] END model__alpha=100, model__eta0=0.0001, model__penalty=l2, pca__n_components=400;, score=(train=0.710, test=0.749) total time=   4.4s\n",
            "[CV 3/5] END model__alpha=100, model__eta0=0.0001, model__penalty=l2, pca__n_components=400;, score=(train=0.722, test=0.716) total time=   3.5s\n",
            "[CV 4/5] END model__alpha=100, model__eta0=0.0001, model__penalty=l2, pca__n_components=400;, score=(train=0.712, test=0.699) total time=   3.5s\n",
            "[CV 5/5] END model__alpha=100, model__eta0=0.0001, model__penalty=l2, pca__n_components=400;, score=(train=0.720, test=0.711) total time=   4.2s\n",
            "[CV 1/5] END model__alpha=100, model__eta0=0.0001, model__penalty=l2, pca__n_components=450;, score=(train=0.720, test=0.714) total time=   3.8s\n",
            "[CV 2/5] END model__alpha=100, model__eta0=0.0001, model__penalty=l2, pca__n_components=450;, score=(train=0.710, test=0.749) total time=   3.8s\n",
            "[CV 3/5] END model__alpha=100, model__eta0=0.0001, model__penalty=l2, pca__n_components=450;, score=(train=0.722, test=0.715) total time=   4.8s\n",
            "[CV 4/5] END model__alpha=100, model__eta0=0.0001, model__penalty=l2, pca__n_components=450;, score=(train=0.712, test=0.699) total time=   3.8s\n",
            "[CV 5/5] END model__alpha=100, model__eta0=0.0001, model__penalty=l2, pca__n_components=450;, score=(train=0.720, test=0.711) total time=   3.8s\n",
            "[CV 1/5] END model__alpha=100, model__eta0=0.001, model__penalty=l1, pca__n_components=300;, score=(train=0.712, test=0.696) total time=   3.7s\n",
            "[CV 2/5] END model__alpha=100, model__eta0=0.001, model__penalty=l1, pca__n_components=300;, score=(train=0.701, test=0.742) total time=   2.8s\n",
            "[CV 3/5] END model__alpha=100, model__eta0=0.001, model__penalty=l1, pca__n_components=300;, score=(train=0.710, test=0.706) total time=   2.7s\n",
            "[CV 4/5] END model__alpha=100, model__eta0=0.001, model__penalty=l1, pca__n_components=300;, score=(train=0.711, test=0.699) total time=   2.8s\n",
            "[CV 5/5] END model__alpha=100, model__eta0=0.001, model__penalty=l1, pca__n_components=300;, score=(train=0.711, test=0.703) total time=   3.7s\n",
            "[CV 1/5] END model__alpha=100, model__eta0=0.001, model__penalty=l1, pca__n_components=350;, score=(train=0.712, test=0.696) total time=   3.1s\n",
            "[CV 2/5] END model__alpha=100, model__eta0=0.001, model__penalty=l1, pca__n_components=350;, score=(train=0.701, test=0.742) total time=   3.0s\n",
            "[CV 3/5] END model__alpha=100, model__eta0=0.001, model__penalty=l1, pca__n_components=350;, score=(train=0.710, test=0.706) total time=   3.0s\n",
            "[CV 4/5] END model__alpha=100, model__eta0=0.001, model__penalty=l1, pca__n_components=350;, score=(train=0.711, test=0.699) total time=   3.9s\n",
            "[CV 5/5] END model__alpha=100, model__eta0=0.001, model__penalty=l1, pca__n_components=350;, score=(train=0.711, test=0.703) total time=   3.1s\n",
            "[CV 1/5] END model__alpha=100, model__eta0=0.001, model__penalty=l1, pca__n_components=400;, score=(train=0.712, test=0.696) total time=   3.6s\n",
            "[CV 2/5] END model__alpha=100, model__eta0=0.001, model__penalty=l1, pca__n_components=400;, score=(train=0.701, test=0.742) total time=   4.4s\n",
            "[CV 3/5] END model__alpha=100, model__eta0=0.001, model__penalty=l1, pca__n_components=400;, score=(train=0.710, test=0.706) total time=   3.5s\n",
            "[CV 4/5] END model__alpha=100, model__eta0=0.001, model__penalty=l1, pca__n_components=400;, score=(train=0.711, test=0.699) total time=   3.4s\n",
            "[CV 5/5] END model__alpha=100, model__eta0=0.001, model__penalty=l1, pca__n_components=400;, score=(train=0.711, test=0.703) total time=   4.2s\n",
            "[CV 1/5] END model__alpha=100, model__eta0=0.001, model__penalty=l1, pca__n_components=450;, score=(train=0.712, test=0.696) total time=   3.9s\n",
            "[CV 2/5] END model__alpha=100, model__eta0=0.001, model__penalty=l1, pca__n_components=450;, score=(train=0.701, test=0.742) total time=   3.8s\n",
            "[CV 3/5] END model__alpha=100, model__eta0=0.001, model__penalty=l1, pca__n_components=450;, score=(train=0.710, test=0.706) total time=   4.7s\n",
            "[CV 4/5] END model__alpha=100, model__eta0=0.001, model__penalty=l1, pca__n_components=450;, score=(train=0.711, test=0.699) total time=   3.8s\n",
            "[CV 5/5] END model__alpha=100, model__eta0=0.001, model__penalty=l1, pca__n_components=450;, score=(train=0.711, test=0.703) total time=   3.8s\n",
            "[CV 1/5] END model__alpha=100, model__eta0=0.001, model__penalty=l2, pca__n_components=300;, score=(train=0.714, test=0.702) total time=   3.2s\n",
            "[CV 2/5] END model__alpha=100, model__eta0=0.001, model__penalty=l2, pca__n_components=300;, score=(train=0.701, test=0.742) total time=   2.9s\n",
            "[CV 3/5] END model__alpha=100, model__eta0=0.001, model__penalty=l2, pca__n_components=300;, score=(train=0.718, test=0.715) total time=   2.8s\n",
            "[CV 4/5] END model__alpha=100, model__eta0=0.001, model__penalty=l2, pca__n_components=300;, score=(train=0.711, test=0.699) total time=   2.8s\n",
            "[CV 5/5] END model__alpha=100, model__eta0=0.001, model__penalty=l2, pca__n_components=300;, score=(train=0.719, test=0.718) total time=   3.3s\n",
            "[CV 1/5] END model__alpha=100, model__eta0=0.001, model__penalty=l2, pca__n_components=350;, score=(train=0.714, test=0.702) total time=   3.2s\n",
            "[CV 2/5] END model__alpha=100, model__eta0=0.001, model__penalty=l2, pca__n_components=350;, score=(train=0.701, test=0.742) total time=   2.9s\n",
            "[CV 3/5] END model__alpha=100, model__eta0=0.001, model__penalty=l2, pca__n_components=350;, score=(train=0.718, test=0.713) total time=   2.9s\n",
            "[CV 4/5] END model__alpha=100, model__eta0=0.001, model__penalty=l2, pca__n_components=350;, score=(train=0.711, test=0.699) total time=   3.9s\n",
            "[CV 5/5] END model__alpha=100, model__eta0=0.001, model__penalty=l2, pca__n_components=350;, score=(train=0.712, test=0.703) total time=   3.0s\n",
            "[CV 1/5] END model__alpha=100, model__eta0=0.001, model__penalty=l2, pca__n_components=400;, score=(train=0.714, test=0.702) total time=   3.4s\n",
            "[CV 2/5] END model__alpha=100, model__eta0=0.001, model__penalty=l2, pca__n_components=400;, score=(train=0.701, test=0.742) total time=   3.7s\n",
            "[CV 3/5] END model__alpha=100, model__eta0=0.001, model__penalty=l2, pca__n_components=400;, score=(train=0.718, test=0.713) total time=   3.8s\n",
            "[CV 4/5] END model__alpha=100, model__eta0=0.001, model__penalty=l2, pca__n_components=400;, score=(train=0.711, test=0.699) total time=   3.4s\n",
            "[CV 5/5] END model__alpha=100, model__eta0=0.001, model__penalty=l2, pca__n_components=400;, score=(train=0.718, test=0.718) total time=   3.3s\n",
            "[CV 1/5] END model__alpha=100, model__eta0=0.001, model__penalty=l2, pca__n_components=450;, score=(train=0.714, test=0.700) total time=   4.7s\n",
            "[CV 2/5] END model__alpha=100, model__eta0=0.001, model__penalty=l2, pca__n_components=450;, score=(train=0.701, test=0.742) total time=   3.7s\n",
            "[CV 3/5] END model__alpha=100, model__eta0=0.001, model__penalty=l2, pca__n_components=450;, score=(train=0.718, test=0.713) total time=   3.7s\n",
            "[CV 4/5] END model__alpha=100, model__eta0=0.001, model__penalty=l2, pca__n_components=450;, score=(train=0.711, test=0.699) total time=   4.6s\n",
            "[CV 5/5] END model__alpha=100, model__eta0=0.001, model__penalty=l2, pca__n_components=450;, score=(train=0.712, test=0.703) total time=   3.6s\n",
            "[CV 1/5] END model__alpha=100, model__eta0=0.01, model__penalty=l1, pca__n_components=300;, score=(train=0.712, test=0.696) total time=   2.7s\n",
            "[CV 2/5] END model__alpha=100, model__eta0=0.01, model__penalty=l1, pca__n_components=300;, score=(train=0.701, test=0.742) total time=   3.5s\n",
            "[CV 3/5] END model__alpha=100, model__eta0=0.01, model__penalty=l1, pca__n_components=300;, score=(train=0.710, test=0.706) total time=   2.9s\n",
            "[CV 4/5] END model__alpha=100, model__eta0=0.01, model__penalty=l1, pca__n_components=300;, score=(train=0.711, test=0.699) total time=   2.8s\n",
            "[CV 5/5] END model__alpha=100, model__eta0=0.01, model__penalty=l1, pca__n_components=300;, score=(train=0.711, test=0.703) total time=   2.8s\n",
            "[CV 1/5] END model__alpha=100, model__eta0=0.01, model__penalty=l1, pca__n_components=350;, score=(train=0.712, test=0.696) total time=   4.1s\n",
            "[CV 2/5] END model__alpha=100, model__eta0=0.01, model__penalty=l1, pca__n_components=350;, score=(train=0.701, test=0.742) total time=   3.1s\n",
            "[CV 3/5] END model__alpha=100, model__eta0=0.01, model__penalty=l1, pca__n_components=350;, score=(train=0.710, test=0.706) total time=   3.0s\n",
            "[CV 4/5] END model__alpha=100, model__eta0=0.01, model__penalty=l1, pca__n_components=350;, score=(train=0.711, test=0.699) total time=   3.0s\n",
            "[CV 5/5] END model__alpha=100, model__eta0=0.01, model__penalty=l1, pca__n_components=350;, score=(train=0.711, test=0.703) total time=   3.7s\n",
            "[CV 1/5] END model__alpha=100, model__eta0=0.01, model__penalty=l1, pca__n_components=400;, score=(train=0.712, test=0.696) total time=   3.4s\n",
            "[CV 2/5] END model__alpha=100, model__eta0=0.01, model__penalty=l1, pca__n_components=400;, score=(train=0.701, test=0.742) total time=   3.3s\n",
            "[CV 3/5] END model__alpha=100, model__eta0=0.01, model__penalty=l1, pca__n_components=400;, score=(train=0.710, test=0.706) total time=   4.5s\n",
            "[CV 4/5] END model__alpha=100, model__eta0=0.01, model__penalty=l1, pca__n_components=400;, score=(train=0.711, test=0.699) total time=   3.5s\n",
            "[CV 5/5] END model__alpha=100, model__eta0=0.01, model__penalty=l1, pca__n_components=400;, score=(train=0.711, test=0.703) total time=   3.4s\n",
            "[CV 1/5] END model__alpha=100, model__eta0=0.01, model__penalty=l1, pca__n_components=450;, score=(train=0.712, test=0.696) total time=   4.7s\n",
            "[CV 2/5] END model__alpha=100, model__eta0=0.01, model__penalty=l1, pca__n_components=450;, score=(train=0.701, test=0.742) total time=   3.8s\n",
            "[CV 3/5] END model__alpha=100, model__eta0=0.01, model__penalty=l1, pca__n_components=450;, score=(train=0.710, test=0.706) total time=   3.8s\n",
            "[CV 4/5] END model__alpha=100, model__eta0=0.01, model__penalty=l1, pca__n_components=450;, score=(train=0.711, test=0.699) total time=   4.8s\n",
            "[CV 5/5] END model__alpha=100, model__eta0=0.01, model__penalty=l1, pca__n_components=450;, score=(train=0.711, test=0.703) total time=   3.8s\n",
            "[CV 1/5] END model__alpha=100, model__eta0=0.01, model__penalty=l2, pca__n_components=300;, score=(train=0.711, test=0.696) total time=   2.7s\n",
            "[CV 2/5] END model__alpha=100, model__eta0=0.01, model__penalty=l2, pca__n_components=300;, score=(train=0.701, test=0.742) total time=   3.1s\n",
            "[CV 3/5] END model__alpha=100, model__eta0=0.01, model__penalty=l2, pca__n_components=300;, score=(train=0.713, test=0.706) total time=   3.2s\n",
            "[CV 4/5] END model__alpha=100, model__eta0=0.01, model__penalty=l2, pca__n_components=300;, score=(train=0.711, test=0.699) total time=   2.7s\n",
            "[CV 5/5] END model__alpha=100, model__eta0=0.01, model__penalty=l2, pca__n_components=300;, score=(train=0.711, test=0.703) total time=   2.7s\n",
            "[CV 1/5] END model__alpha=100, model__eta0=0.01, model__penalty=l2, pca__n_components=350;, score=(train=0.711, test=0.696) total time=   3.3s\n",
            "[CV 2/5] END model__alpha=100, model__eta0=0.01, model__penalty=l2, pca__n_components=350;, score=(train=0.701, test=0.742) total time=   3.4s\n",
            "[CV 3/5] END model__alpha=100, model__eta0=0.01, model__penalty=l2, pca__n_components=350;, score=(train=0.711, test=0.704) total time=   3.0s\n",
            "[CV 4/5] END model__alpha=100, model__eta0=0.01, model__penalty=l2, pca__n_components=350;, score=(train=0.711, test=0.699) total time=   3.0s\n",
            "[CV 5/5] END model__alpha=100, model__eta0=0.01, model__penalty=l2, pca__n_components=350;, score=(train=0.711, test=0.703) total time=   3.8s\n",
            "[CV 1/5] END model__alpha=100, model__eta0=0.01, model__penalty=l2, pca__n_components=400;, score=(train=0.711, test=0.696) total time=   3.4s\n",
            "[CV 2/5] END model__alpha=100, model__eta0=0.01, model__penalty=l2, pca__n_components=400;, score=(train=0.701, test=0.742) total time=   3.4s\n",
            "[CV 3/5] END model__alpha=100, model__eta0=0.01, model__penalty=l2, pca__n_components=400;, score=(train=0.714, test=0.706) total time=   4.0s\n",
            "[CV 4/5] END model__alpha=100, model__eta0=0.01, model__penalty=l2, pca__n_components=400;, score=(train=0.711, test=0.699) total time=   3.7s\n",
            "[CV 5/5] END model__alpha=100, model__eta0=0.01, model__penalty=l2, pca__n_components=400;, score=(train=0.711, test=0.703) total time=   3.3s\n",
            "[CV 1/5] END model__alpha=100, model__eta0=0.01, model__penalty=l2, pca__n_components=450;, score=(train=0.711, test=0.696) total time=   3.8s\n",
            "[CV 2/5] END model__alpha=100, model__eta0=0.01, model__penalty=l2, pca__n_components=450;, score=(train=0.701, test=0.742) total time=   4.3s\n",
            "[CV 3/5] END model__alpha=100, model__eta0=0.01, model__penalty=l2, pca__n_components=450;, score=(train=0.715, test=0.705) total time=   3.7s\n",
            "[CV 4/5] END model__alpha=100, model__eta0=0.01, model__penalty=l2, pca__n_components=450;, score=(train=0.711, test=0.699) total time=   3.8s\n",
            "[CV 5/5] END model__alpha=100, model__eta0=0.01, model__penalty=l2, pca__n_components=450;, score=(train=0.711, test=0.703) total time=   4.3s\n",
            "[CV 1/5] END model__alpha=100, model__eta0=0.1, model__penalty=l1, pca__n_components=300;, score=(train=0.712, test=0.696) total time=   2.8s\n",
            "[CV 2/5] END model__alpha=100, model__eta0=0.1, model__penalty=l1, pca__n_components=300;, score=(train=0.701, test=0.742) total time=   2.8s\n",
            "[CV 3/5] END model__alpha=100, model__eta0=0.1, model__penalty=l1, pca__n_components=300;, score=(train=0.710, test=0.706) total time=   3.4s\n",
            "[CV 4/5] END model__alpha=100, model__eta0=0.1, model__penalty=l1, pca__n_components=300;, score=(train=0.711, test=0.699) total time=   3.0s\n",
            "[CV 5/5] END model__alpha=100, model__eta0=0.1, model__penalty=l1, pca__n_components=300;, score=(train=0.711, test=0.703) total time=   2.7s\n",
            "[CV 1/5] END model__alpha=100, model__eta0=0.1, model__penalty=l1, pca__n_components=350;, score=(train=0.712, test=0.696) total time=   3.0s\n",
            "[CV 2/5] END model__alpha=100, model__eta0=0.1, model__penalty=l1, pca__n_components=350;, score=(train=0.701, test=0.742) total time=   4.0s\n",
            "[CV 3/5] END model__alpha=100, model__eta0=0.1, model__penalty=l1, pca__n_components=350;, score=(train=0.710, test=0.706) total time=   3.1s\n",
            "[CV 4/5] END model__alpha=100, model__eta0=0.1, model__penalty=l1, pca__n_components=350;, score=(train=0.711, test=0.699) total time=   3.1s\n",
            "[CV 5/5] END model__alpha=100, model__eta0=0.1, model__penalty=l1, pca__n_components=350;, score=(train=0.711, test=0.703) total time=   3.1s\n",
            "[CV 1/5] END model__alpha=100, model__eta0=0.1, model__penalty=l1, pca__n_components=400;, score=(train=0.712, test=0.696) total time=   4.1s\n",
            "[CV 2/5] END model__alpha=100, model__eta0=0.1, model__penalty=l1, pca__n_components=400;, score=(train=0.701, test=0.742) total time=   3.5s\n",
            "[CV 3/5] END model__alpha=100, model__eta0=0.1, model__penalty=l1, pca__n_components=400;, score=(train=0.710, test=0.706) total time=   3.6s\n",
            "[CV 4/5] END model__alpha=100, model__eta0=0.1, model__penalty=l1, pca__n_components=400;, score=(train=0.711, test=0.699) total time=   4.4s\n",
            "[CV 5/5] END model__alpha=100, model__eta0=0.1, model__penalty=l1, pca__n_components=400;, score=(train=0.711, test=0.703) total time=   3.4s\n",
            "[CV 1/5] END model__alpha=100, model__eta0=0.1, model__penalty=l1, pca__n_components=450;, score=(train=0.712, test=0.696) total time=   3.7s\n",
            "[CV 2/5] END model__alpha=100, model__eta0=0.1, model__penalty=l1, pca__n_components=450;, score=(train=0.701, test=0.742) total time=   4.7s\n",
            "[CV 3/5] END model__alpha=100, model__eta0=0.1, model__penalty=l1, pca__n_components=450;, score=(train=0.710, test=0.706) total time=   3.8s\n",
            "[CV 4/5] END model__alpha=100, model__eta0=0.1, model__penalty=l1, pca__n_components=450;, score=(train=0.711, test=0.699) total time=   3.8s\n",
            "[CV 5/5] END model__alpha=100, model__eta0=0.1, model__penalty=l1, pca__n_components=450;, score=(train=0.711, test=0.703) total time=   4.7s\n",
            "[CV 1/5] END model__alpha=100, model__eta0=0.1, model__penalty=l2, pca__n_components=300;, score=(train=0.684, test=0.664) total time=   2.7s\n",
            "[CV 2/5] END model__alpha=100, model__eta0=0.1, model__penalty=l2, pca__n_components=300;, score=(train=0.510, test=0.482) total time=   2.7s\n",
            "[CV 3/5] END model__alpha=100, model__eta0=0.1, model__penalty=l2, pca__n_components=300;, score=(train=0.639, test=0.630) total time=   2.8s\n",
            "[CV 4/5] END model__alpha=100, model__eta0=0.1, model__penalty=l2, pca__n_components=300;, score=(train=0.666, test=0.677) total time=   3.5s\n",
            "[CV 5/5] END model__alpha=100, model__eta0=0.1, model__penalty=l2, pca__n_components=300;, score=(train=0.677, test=0.681) total time=   2.7s\n",
            "[CV 1/5] END model__alpha=100, model__eta0=0.1, model__penalty=l2, pca__n_components=350;, score=(train=0.572, test=0.587) total time=   3.0s\n",
            "[CV 2/5] END model__alpha=100, model__eta0=0.1, model__penalty=l2, pca__n_components=350;, score=(train=0.701, test=0.742) total time=   3.3s\n",
            "[CV 3/5] END model__alpha=100, model__eta0=0.1, model__penalty=l2, pca__n_components=350;, score=(train=0.653, test=0.640) total time=   3.3s\n",
            "[CV 4/5] END model__alpha=100, model__eta0=0.1, model__penalty=l2, pca__n_components=350;, score=(train=0.699, test=0.694) total time=   3.0s\n",
            "[CV 5/5] END model__alpha=100, model__eta0=0.1, model__penalty=l2, pca__n_components=350;, score=(train=0.712, test=0.701) total time=   3.0s\n",
            "[CV 1/5] END model__alpha=100, model__eta0=0.1, model__penalty=l2, pca__n_components=400;, score=(train=0.731, test=0.738) total time=   4.3s\n",
            "[CV 2/5] END model__alpha=100, model__eta0=0.1, model__penalty=l2, pca__n_components=400;, score=(train=0.701, test=0.742) total time=   3.5s\n",
            "[CV 3/5] END model__alpha=100, model__eta0=0.1, model__penalty=l2, pca__n_components=400;, score=(train=0.635, test=0.629) total time=   3.2s\n",
            "[CV 4/5] END model__alpha=100, model__eta0=0.1, model__penalty=l2, pca__n_components=400;, score=(train=0.705, test=0.700) total time=   3.8s\n",
            "[CV 5/5] END model__alpha=100, model__eta0=0.1, model__penalty=l2, pca__n_components=400;, score=(train=0.712, test=0.704) total time=   3.7s\n",
            "[CV 1/5] END model__alpha=100, model__eta0=0.1, model__penalty=l2, pca__n_components=450;, score=(train=0.695, test=0.698) total time=   3.6s\n",
            "[CV 2/5] END model__alpha=100, model__eta0=0.1, model__penalty=l2, pca__n_components=450;, score=(train=0.701, test=0.742) total time=   4.0s\n",
            "[CV 3/5] END model__alpha=100, model__eta0=0.1, model__penalty=l2, pca__n_components=450;, score=(train=0.642, test=0.637) total time=   4.2s\n",
            "[CV 4/5] END model__alpha=100, model__eta0=0.1, model__penalty=l2, pca__n_components=450;, score=(train=0.697, test=0.692) total time=   3.7s\n",
            "[CV 5/5] END model__alpha=100, model__eta0=0.1, model__penalty=l2, pca__n_components=450;, score=(train=0.711, test=0.704) total time=   4.1s\n"
          ]
        },
        {
          "output_type": "execute_result",
          "data": {
            "text/plain": [
              "GridSearchCV(cv=KFold(n_splits=5, random_state=42, shuffle=True),\n",
              "             estimator=Pipeline(steps=[('scaler', StandardScaler()),\n",
              "                                       ('pca', PCA(random_state=42)),\n",
              "                                       ('model',\n",
              "                                        SGDClassifier(learning_rate='constant',\n",
              "                                                      loss='log_loss',\n",
              "                                                      random_state=42))]),\n",
              "             param_grid={'model__alpha': [0.1, 1, 10, 100],\n",
              "                         'model__eta0': [0.0001, 0.001, 0.01, 0.1],\n",
              "                         'model__penalty': ['l1', 'l2'],\n",
              "                         'pca__n_components': [300, 350, 400, 450]},\n",
              "             return_train_score=True, scoring='accuracy', verbose=3)"
            ],
            "text/html": [
              "<style>#sk-container-id-3 {color: black;background-color: white;}#sk-container-id-3 pre{padding: 0;}#sk-container-id-3 div.sk-toggleable {background-color: white;}#sk-container-id-3 label.sk-toggleable__label {cursor: pointer;display: block;width: 100%;margin-bottom: 0;padding: 0.3em;box-sizing: border-box;text-align: center;}#sk-container-id-3 label.sk-toggleable__label-arrow:before {content: \"▸\";float: left;margin-right: 0.25em;color: #696969;}#sk-container-id-3 label.sk-toggleable__label-arrow:hover:before {color: black;}#sk-container-id-3 div.sk-estimator:hover label.sk-toggleable__label-arrow:before {color: black;}#sk-container-id-3 div.sk-toggleable__content {max-height: 0;max-width: 0;overflow: hidden;text-align: left;background-color: #f0f8ff;}#sk-container-id-3 div.sk-toggleable__content pre {margin: 0.2em;color: black;border-radius: 0.25em;background-color: #f0f8ff;}#sk-container-id-3 input.sk-toggleable__control:checked~div.sk-toggleable__content {max-height: 200px;max-width: 100%;overflow: auto;}#sk-container-id-3 input.sk-toggleable__control:checked~label.sk-toggleable__label-arrow:before {content: \"▾\";}#sk-container-id-3 div.sk-estimator input.sk-toggleable__control:checked~label.sk-toggleable__label {background-color: #d4ebff;}#sk-container-id-3 div.sk-label input.sk-toggleable__control:checked~label.sk-toggleable__label {background-color: #d4ebff;}#sk-container-id-3 input.sk-hidden--visually {border: 0;clip: rect(1px 1px 1px 1px);clip: rect(1px, 1px, 1px, 1px);height: 1px;margin: -1px;overflow: hidden;padding: 0;position: absolute;width: 1px;}#sk-container-id-3 div.sk-estimator {font-family: monospace;background-color: #f0f8ff;border: 1px dotted black;border-radius: 0.25em;box-sizing: border-box;margin-bottom: 0.5em;}#sk-container-id-3 div.sk-estimator:hover {background-color: #d4ebff;}#sk-container-id-3 div.sk-parallel-item::after {content: \"\";width: 100%;border-bottom: 1px solid gray;flex-grow: 1;}#sk-container-id-3 div.sk-label:hover label.sk-toggleable__label {background-color: #d4ebff;}#sk-container-id-3 div.sk-serial::before {content: \"\";position: absolute;border-left: 1px solid gray;box-sizing: border-box;top: 0;bottom: 0;left: 50%;z-index: 0;}#sk-container-id-3 div.sk-serial {display: flex;flex-direction: column;align-items: center;background-color: white;padding-right: 0.2em;padding-left: 0.2em;position: relative;}#sk-container-id-3 div.sk-item {position: relative;z-index: 1;}#sk-container-id-3 div.sk-parallel {display: flex;align-items: stretch;justify-content: center;background-color: white;position: relative;}#sk-container-id-3 div.sk-item::before, #sk-container-id-3 div.sk-parallel-item::before {content: \"\";position: absolute;border-left: 1px solid gray;box-sizing: border-box;top: 0;bottom: 0;left: 50%;z-index: -1;}#sk-container-id-3 div.sk-parallel-item {display: flex;flex-direction: column;z-index: 1;position: relative;background-color: white;}#sk-container-id-3 div.sk-parallel-item:first-child::after {align-self: flex-end;width: 50%;}#sk-container-id-3 div.sk-parallel-item:last-child::after {align-self: flex-start;width: 50%;}#sk-container-id-3 div.sk-parallel-item:only-child::after {width: 0;}#sk-container-id-3 div.sk-dashed-wrapped {border: 1px dashed gray;margin: 0 0.4em 0.5em 0.4em;box-sizing: border-box;padding-bottom: 0.4em;background-color: white;}#sk-container-id-3 div.sk-label label {font-family: monospace;font-weight: bold;display: inline-block;line-height: 1.2em;}#sk-container-id-3 div.sk-label-container {text-align: center;}#sk-container-id-3 div.sk-container {/* jupyter's `normalize.less` sets `[hidden] { display: none; }` but bootstrap.min.css set `[hidden] { display: none !important; }` so we also need the `!important` here to be able to override the default hidden behavior on the sphinx rendered scikit-learn.org. See: https://github.com/scikit-learn/scikit-learn/issues/21755 */display: inline-block !important;position: relative;}#sk-container-id-3 div.sk-text-repr-fallback {display: none;}</style><div id=\"sk-container-id-3\" class=\"sk-top-container\"><div class=\"sk-text-repr-fallback\"><pre>GridSearchCV(cv=KFold(n_splits=5, random_state=42, shuffle=True),\n",
              "             estimator=Pipeline(steps=[(&#x27;scaler&#x27;, StandardScaler()),\n",
              "                                       (&#x27;pca&#x27;, PCA(random_state=42)),\n",
              "                                       (&#x27;model&#x27;,\n",
              "                                        SGDClassifier(learning_rate=&#x27;constant&#x27;,\n",
              "                                                      loss=&#x27;log_loss&#x27;,\n",
              "                                                      random_state=42))]),\n",
              "             param_grid={&#x27;model__alpha&#x27;: [0.1, 1, 10, 100],\n",
              "                         &#x27;model__eta0&#x27;: [0.0001, 0.001, 0.01, 0.1],\n",
              "                         &#x27;model__penalty&#x27;: [&#x27;l1&#x27;, &#x27;l2&#x27;],\n",
              "                         &#x27;pca__n_components&#x27;: [300, 350, 400, 450]},\n",
              "             return_train_score=True, scoring=&#x27;accuracy&#x27;, verbose=3)</pre><b>In a Jupyter environment, please rerun this cell to show the HTML representation or trust the notebook. <br />On GitHub, the HTML representation is unable to render, please try loading this page with nbviewer.org.</b></div><div class=\"sk-container\" hidden><div class=\"sk-item sk-dashed-wrapped\"><div class=\"sk-label-container\"><div class=\"sk-label sk-toggleable\"><input class=\"sk-toggleable__control sk-hidden--visually\" id=\"sk-estimator-id-3\" type=\"checkbox\" ><label for=\"sk-estimator-id-3\" class=\"sk-toggleable__label sk-toggleable__label-arrow\">GridSearchCV</label><div class=\"sk-toggleable__content\"><pre>GridSearchCV(cv=KFold(n_splits=5, random_state=42, shuffle=True),\n",
              "             estimator=Pipeline(steps=[(&#x27;scaler&#x27;, StandardScaler()),\n",
              "                                       (&#x27;pca&#x27;, PCA(random_state=42)),\n",
              "                                       (&#x27;model&#x27;,\n",
              "                                        SGDClassifier(learning_rate=&#x27;constant&#x27;,\n",
              "                                                      loss=&#x27;log_loss&#x27;,\n",
              "                                                      random_state=42))]),\n",
              "             param_grid={&#x27;model__alpha&#x27;: [0.1, 1, 10, 100],\n",
              "                         &#x27;model__eta0&#x27;: [0.0001, 0.001, 0.01, 0.1],\n",
              "                         &#x27;model__penalty&#x27;: [&#x27;l1&#x27;, &#x27;l2&#x27;],\n",
              "                         &#x27;pca__n_components&#x27;: [300, 350, 400, 450]},\n",
              "             return_train_score=True, scoring=&#x27;accuracy&#x27;, verbose=3)</pre></div></div></div><div class=\"sk-parallel\"><div class=\"sk-parallel-item\"><div class=\"sk-item\"><div class=\"sk-label-container\"><div class=\"sk-label sk-toggleable\"><input class=\"sk-toggleable__control sk-hidden--visually\" id=\"sk-estimator-id-4\" type=\"checkbox\" ><label for=\"sk-estimator-id-4\" class=\"sk-toggleable__label sk-toggleable__label-arrow\">estimator: Pipeline</label><div class=\"sk-toggleable__content\"><pre>Pipeline(steps=[(&#x27;scaler&#x27;, StandardScaler()), (&#x27;pca&#x27;, PCA(random_state=42)),\n",
              "                (&#x27;model&#x27;,\n",
              "                 SGDClassifier(learning_rate=&#x27;constant&#x27;, loss=&#x27;log_loss&#x27;,\n",
              "                               random_state=42))])</pre></div></div></div><div class=\"sk-serial\"><div class=\"sk-item\"><div class=\"sk-serial\"><div class=\"sk-item\"><div class=\"sk-estimator sk-toggleable\"><input class=\"sk-toggleable__control sk-hidden--visually\" id=\"sk-estimator-id-5\" type=\"checkbox\" ><label for=\"sk-estimator-id-5\" class=\"sk-toggleable__label sk-toggleable__label-arrow\">StandardScaler</label><div class=\"sk-toggleable__content\"><pre>StandardScaler()</pre></div></div></div><div class=\"sk-item\"><div class=\"sk-estimator sk-toggleable\"><input class=\"sk-toggleable__control sk-hidden--visually\" id=\"sk-estimator-id-6\" type=\"checkbox\" ><label for=\"sk-estimator-id-6\" class=\"sk-toggleable__label sk-toggleable__label-arrow\">PCA</label><div class=\"sk-toggleable__content\"><pre>PCA(random_state=42)</pre></div></div></div><div class=\"sk-item\"><div class=\"sk-estimator sk-toggleable\"><input class=\"sk-toggleable__control sk-hidden--visually\" id=\"sk-estimator-id-7\" type=\"checkbox\" ><label for=\"sk-estimator-id-7\" class=\"sk-toggleable__label sk-toggleable__label-arrow\">SGDClassifier</label><div class=\"sk-toggleable__content\"><pre>SGDClassifier(learning_rate=&#x27;constant&#x27;, loss=&#x27;log_loss&#x27;, random_state=42)</pre></div></div></div></div></div></div></div></div></div></div></div></div>"
            ]
          },
          "metadata": {},
          "execution_count": 39
        }
      ]
    },
    {
      "cell_type": "code",
      "source": [
        "best_score = search.best_score_\n",
        "best_params = search.best_params_\n",
        "\n",
        "print(f\"The highest test accuracy is {best_score} with {best_params}\")"
      ],
      "metadata": {
        "colab": {
          "base_uri": "https://localhost:8080/"
        },
        "id": "QtD_9FjC6ayi",
        "outputId": "e35a2efb-009d-4358-e9db-297f49206321"
      },
      "execution_count": null,
      "outputs": [
        {
          "output_type": "stream",
          "name": "stdout",
          "text": [
            "The highest test accuracy is 0.9545543229997255 with {'model__alpha': 0.1, 'model__eta0': 0.001, 'model__penalty': 'l2', 'pca__n_components': 450}\n"
          ]
        }
      ]
    },
    {
      "cell_type": "markdown",
      "source": [
        "Si procede con l'ultimo training passando al modello e alla pca i parametetri migliori utilizzando l'intero train dataset"
      ],
      "metadata": {
        "id": "JaA6iuHcU7dP"
      }
    },
    {
      "cell_type": "code",
      "source": [
        "sc = StandardScaler()\n",
        "best_pca = PCA(n_components=best_params[\"pca__n_components\"], random_state=42)\n",
        "best_model = SGDClassifier(learning_rate=\"constant\", eta0=best_params[\"model__eta0\"], alpha=best_params[\"model__alpha\"], penalty=best_params[\"model__penalty\"], random_state=42)\n",
        "\n",
        "x_train_sc = sc.fit_transform(x_train)\n",
        "x_test_sc = sc.transform(x_test)\n",
        "joblib.dump(sc, 'scaler.joblib')\n",
        "\n",
        "x_train_pca = best_pca.fit_transform(x_train_sc)\n",
        "x_test_pca = best_pca.transform(x_test_sc)\n",
        "joblib.dump(best_pca, 'best_pca.joblib')\n",
        "\n",
        "best_model.fit(x_train_pca, y_train)\n",
        "joblib.dump(best_model, 'best_model.joblib')"
      ],
      "metadata": {
        "colab": {
          "base_uri": "https://localhost:8080/"
        },
        "id": "-ABsoIjz-Ak8",
        "outputId": "9f8ec77e-2063-4e85-ef86-bcaf3ae2166e"
      },
      "execution_count": null,
      "outputs": [
        {
          "output_type": "execute_result",
          "data": {
            "text/plain": [
              "['best_model.joblib']"
            ]
          },
          "metadata": {},
          "execution_count": 41
        }
      ]
    },
    {
      "cell_type": "code",
      "source": [
        "y_preds = best_model.predict(x_test_pca)\n",
        "print(f\"Classification Report:\")\n",
        "print(classification_report(y_test, y_preds))"
      ],
      "metadata": {
        "colab": {
          "base_uri": "https://localhost:8080/"
        },
        "id": "LdBpRs1jApOr",
        "outputId": "00d87c22-555f-43b4-d5bb-2a9f40e291bd"
      },
      "execution_count": null,
      "outputs": [
        {
          "output_type": "stream",
          "name": "stdout",
          "text": [
            "Classification Report:\n",
            "              precision    recall  f1-score   support\n",
            "\n",
            "           0       0.99      0.97      0.98       739\n",
            "           1       0.94      0.98      0.96       296\n",
            "\n",
            "    accuracy                           0.97      1035\n",
            "   macro avg       0.96      0.98      0.97      1035\n",
            "weighted avg       0.98      0.97      0.98      1035\n",
            "\n"
          ]
        }
      ]
    },
    {
      "cell_type": "code",
      "source": [
        "ConfusionMatrixDisplay.from_predictions(y_test, y_preds)"
      ],
      "metadata": {
        "colab": {
          "base_uri": "https://localhost:8080/",
          "height": 466
        },
        "id": "O7bbiIZZA1-R",
        "outputId": "608173be-9e05-4ad1-ea38-209746cd9040"
      },
      "execution_count": null,
      "outputs": [
        {
          "output_type": "execute_result",
          "data": {
            "text/plain": [
              "<sklearn.metrics._plot.confusion_matrix.ConfusionMatrixDisplay at 0x7b1bec83c790>"
            ]
          },
          "metadata": {},
          "execution_count": 43
        },
        {
          "output_type": "display_data",
          "data": {
            "text/plain": [
              "<Figure size 640x480 with 2 Axes>"
            ],
            "image/png": "[encoded data removed]"
          },
          "metadata": {}
        }
      ]
    },
    {
      "cell_type": "markdown",
      "source": [
        "L'accuracy è migliorata, ma i false positive sono aumentati rispetto al primo caso"
      ],
      "metadata": {
        "id": "jXF02VFZVX7R"
      }
    },
    {
      "cell_type": "markdown",
      "source": [
        "## Custom Logistic Regression"
      ],
      "metadata": {
        "id": "DKo6zLA6IKDv"
      }
    },
    {
      "cell_type": "markdown",
      "source": [
        "Utilizzando i paramtri trovati in precedenza, si testa il funzionamento di una implementazione custom dell' `SGDClassifier`"
      ],
      "metadata": {
        "id": "Bd3lMkE6Vhiy"
      }
    },
    {
      "cell_type": "code",
      "source": [
        "import warnings\n",
        "warnings.filterwarnings(\"ignore\")\n",
        "np.random.seed(42)\n",
        "\n",
        "class LogisticRegression:\n",
        "\n",
        "  def __init__(self, learning_rate=1e-2, n_steps=200, n_features=1, lmd=1):\n",
        "    self.n_features = n_features + 1\n",
        "    self.learning_rate = learning_rate\n",
        "    self.n_steps = n_steps\n",
        "    self.theta = np.random.rand(self.n_features)\n",
        "    self.lmd = lmd\n",
        "\n",
        "  def sigmoid(self, z):\n",
        "    return 1 / (1 + np.exp(-z))\n",
        "\n",
        "  def fit(self, X, y, X_test, y_test):\n",
        "    m = len(X)\n",
        "    X = np.c_[np.ones(X.shape[0]), X]\n",
        "    X_test = np.c_[np.ones(X_test.shape[0]), X_test]\n",
        "\n",
        "    cost_history = np.zeros(self.n_steps)\n",
        "    cost_history_test = np.zeros(self.n_steps)\n",
        "\n",
        "    for step in range(0, self.n_steps):\n",
        "      preds = self.sigmoid(np.dot(X, self.theta))\n",
        "      preds_test = self.sigmoid(np.dot(X_test, self.theta))\n",
        "\n",
        "      for sample in range(0, m):\n",
        "        old_theta = self.theta\n",
        "        self.theta = old_theta - (self.learning_rate * (self.sigmoid(old_theta * X[sample]) - y[sample]) * X[sample])\n",
        "        self.theta[1:] = self.theta[1:] - (self.learning_rate * self.lmd * old_theta[1:])\n",
        "\n",
        "      #print(preds, y, np.log(preds))\n",
        "      cost_history[step] = - (1 / m) * (np.dot(y.T, np.log(preds)) + np.dot((1 - y).T, np.log(1 - preds))) + (self.lmd / (2*m)) * np.sum(np.square(self.theta[1:]))\n",
        "      cost_history_test[step] = - (1 / m) * (np.dot(y_test.T, np.log(preds_test)) + np.dot((1 - y_test).T, np.log(1 - preds_test))) + (self.lmd / (2*m)) * np.sum(np.square(self.theta[1:]))\n",
        "\n",
        "    return cost_history, cost_history_test\n",
        "\n",
        "  def predict(self, X):\n",
        "    Xpred = np.c_[np.ones(X.shape[0]), X]\n",
        "    a = self.sigmoid(np.dot(Xpred, self.theta))\n",
        "    return np.round(a)"
      ],
      "metadata": {
        "id": "DhWRzwAyIMV3"
      },
      "execution_count": null,
      "outputs": []
    },
    {
      "cell_type": "code",
      "source": [
        "sc = StandardScaler()\n",
        "best_pca = PCA(n_components=best_params[\"pca__n_components\"], random_state=42)\n",
        "\n",
        "x_train_sc = sc.fit_transform(x_train)\n",
        "x_test_sc = sc.transform(x_test)\n",
        "\n",
        "x_train_pca = best_pca.fit_transform(x_train_sc)\n",
        "x_test_pca = best_pca.transform(x_test_sc)\n",
        "\n",
        "model = LogisticRegression(learning_rate=best_params[\"model__eta0\"], lmd=best_params[\"model__alpha\"], n_features=x_train_pca.shape[1], n_steps=50)\n",
        "cost_history, cost_history_test = model.fit(x_train_pca, y_train, x_test_pca, y_test)"
      ],
      "metadata": {
        "id": "BnFGtJsBPhc3"
      },
      "execution_count": null,
      "outputs": []
    },
    {
      "cell_type": "markdown",
      "source": [
        "Nel grafico è rappresentato l'andamento della loss attraverso le varie epoche di training"
      ],
      "metadata": {
        "id": "QOAoIEKKWJdm"
      }
    },
    {
      "cell_type": "code",
      "source": [
        "fig, ax = plt.subplots(figsize=(12, 8))\n",
        "\n",
        "ax.set_ylabel('J(theta)')\n",
        "ax.set_xlabel('Epochs')\n",
        "cv, = ax.plot(range(model.n_steps), cost_history_test, 'r+')\n",
        "cv.set_label('Test cost')\n",
        "ax.legend()\n",
        "\n",
        "plt.show()"
      ],
      "metadata": {
        "colab": {
          "base_uri": "https://localhost:8080/",
          "height": 696
        },
        "id": "3IGgUVe4VOWx",
        "outputId": "4c914b9e-1424-4628-8489-e6daf1626eae"
      },
      "execution_count": null,
      "outputs": [
        {
          "output_type": "display_data",
          "data": {
            "text/plain": [
              "<Figure size 1200x800 with 1 Axes>"
            ],
            "image/png": "[encoded data removed]"
          },
          "metadata": {}
        }
      ]
    },
    {
      "cell_type": "code",
      "source": [
        "y_preds = model.predict(x_test_pca)\n",
        "print(f\"Classification Report:\")\n",
        "print(classification_report(y_test, y_preds))"
      ],
      "metadata": {
        "colab": {
          "base_uri": "https://localhost:8080/"
        },
        "id": "Syfh19Y8TEXE",
        "outputId": "1e14fd77-52ab-4edc-b160-e27b57f36226"
      },
      "execution_count": null,
      "outputs": [
        {
          "output_type": "stream",
          "name": "stdout",
          "text": [
            "Classification Report:\n",
            "              precision    recall  f1-score   support\n",
            "\n",
            "           0       0.92      0.97      0.94       739\n",
            "           1       0.90      0.80      0.85       296\n",
            "\n",
            "    accuracy                           0.92      1035\n",
            "   macro avg       0.91      0.88      0.90      1035\n",
            "weighted avg       0.92      0.92      0.92      1035\n",
            "\n"
          ]
        }
      ]
    },
    {
      "cell_type": "code",
      "source": [
        "ConfusionMatrixDisplay.from_predictions(y_test, y_preds)"
      ],
      "metadata": {
        "colab": {
          "base_uri": "https://localhost:8080/",
          "height": 466
        },
        "id": "MF2pp46fUygi",
        "outputId": "b1f1f6da-9a69-4e99-b1f9-b6140d215e03"
      },
      "execution_count": null,
      "outputs": [
        {
          "output_type": "execute_result",
          "data": {
            "text/plain": [
              "<sklearn.metrics._plot.confusion_matrix.ConfusionMatrixDisplay at 0x7b1bec99ae60>"
            ]
          },
          "metadata": {},
          "execution_count": 48
        },
        {
          "output_type": "display_data",
          "data": {
            "text/plain": [
              "<Figure size 640x480 with 2 Axes>"
            ],
            "image/png": "[encoded data removed]"
          },
          "metadata": {}
        }
      ]
    },
    {
      "cell_type": "markdown",
      "source": [
        "I risultati ottenuti non sono molto distanti dai migliori ottenuti in precedenza"
      ],
      "metadata": {
        "id": "J2mUsS_7WVYA"
      }
    }
  ]
}